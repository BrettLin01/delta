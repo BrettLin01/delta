{
  "cells": [
    {
      "cell_type": "markdown",
      "metadata": {
        "id": "view-in-github",
        "colab_type": "text"
      },
      "source": [
        "<a href=\"https://colab.research.google.com/github/BrettLin01/delta/blob/main/examples/token_classification.ipynb\" target=\"_parent\"><img src=\"https://colab.research.google.com/assets/colab-badge.svg\" alt=\"Open In Colab\"/></a>"
      ]
    },
    {
      "cell_type": "markdown",
      "metadata": {
        "id": "X4cRE8IbIrIV"
      },
      "source": [
        "If you're opening this Notebook on colab, you will probably need to install 🤗 Transformers and 🤗 Datasets. Uncomment the following cell and run it."
      ]
    },
    {
      "cell_type": "code",
      "execution_count": 1,
      "metadata": {
        "colab": {
          "base_uri": "https://localhost:8080/"
        },
        "id": "MOsHUjgdIrIW",
        "outputId": "6906d32c-e03c-451f-da82-ddfaec54e9a0"
      },
      "outputs": [
        {
          "output_type": "stream",
          "name": "stdout",
          "text": [
            "Requirement already satisfied: datasets in /usr/local/lib/python3.10/dist-packages (2.13.1)\n",
            "Requirement already satisfied: transformers in /usr/local/lib/python3.10/dist-packages (4.30.2)\n",
            "Requirement already satisfied: seqeval in /usr/local/lib/python3.10/dist-packages (1.2.2)\n",
            "Requirement already satisfied: numpy>=1.17 in /usr/local/lib/python3.10/dist-packages (from datasets) (1.22.4)\n",
            "Requirement already satisfied: pyarrow>=8.0.0 in /usr/local/lib/python3.10/dist-packages (from datasets) (9.0.0)\n",
            "Requirement already satisfied: dill<0.3.7,>=0.3.0 in /usr/local/lib/python3.10/dist-packages (from datasets) (0.3.6)\n",
            "Requirement already satisfied: pandas in /usr/local/lib/python3.10/dist-packages (from datasets) (1.5.3)\n",
            "Requirement already satisfied: requests>=2.19.0 in /usr/local/lib/python3.10/dist-packages (from datasets) (2.27.1)\n",
            "Requirement already satisfied: tqdm>=4.62.1 in /usr/local/lib/python3.10/dist-packages (from datasets) (4.65.0)\n",
            "Requirement already satisfied: xxhash in /usr/local/lib/python3.10/dist-packages (from datasets) (3.2.0)\n",
            "Requirement already satisfied: multiprocess in /usr/local/lib/python3.10/dist-packages (from datasets) (0.70.14)\n",
            "Requirement already satisfied: fsspec[http]>=2021.11.1 in /usr/local/lib/python3.10/dist-packages (from datasets) (2023.6.0)\n",
            "Requirement already satisfied: aiohttp in /usr/local/lib/python3.10/dist-packages (from datasets) (3.8.4)\n",
            "Requirement already satisfied: huggingface-hub<1.0.0,>=0.11.0 in /usr/local/lib/python3.10/dist-packages (from datasets) (0.16.2)\n",
            "Requirement already satisfied: packaging in /usr/local/lib/python3.10/dist-packages (from datasets) (23.1)\n",
            "Requirement already satisfied: pyyaml>=5.1 in /usr/local/lib/python3.10/dist-packages (from datasets) (6.0)\n",
            "Requirement already satisfied: filelock in /usr/local/lib/python3.10/dist-packages (from transformers) (3.12.2)\n",
            "Requirement already satisfied: regex!=2019.12.17 in /usr/local/lib/python3.10/dist-packages (from transformers) (2022.10.31)\n",
            "Requirement already satisfied: tokenizers!=0.11.3,<0.14,>=0.11.1 in /usr/local/lib/python3.10/dist-packages (from transformers) (0.13.3)\n",
            "Requirement already satisfied: safetensors>=0.3.1 in /usr/local/lib/python3.10/dist-packages (from transformers) (0.3.1)\n",
            "Requirement already satisfied: scikit-learn>=0.21.3 in /usr/local/lib/python3.10/dist-packages (from seqeval) (1.2.2)\n",
            "Requirement already satisfied: attrs>=17.3.0 in /usr/local/lib/python3.10/dist-packages (from aiohttp->datasets) (23.1.0)\n",
            "Requirement already satisfied: charset-normalizer<4.0,>=2.0 in /usr/local/lib/python3.10/dist-packages (from aiohttp->datasets) (2.0.12)\n",
            "Requirement already satisfied: multidict<7.0,>=4.5 in /usr/local/lib/python3.10/dist-packages (from aiohttp->datasets) (6.0.4)\n",
            "Requirement already satisfied: async-timeout<5.0,>=4.0.0a3 in /usr/local/lib/python3.10/dist-packages (from aiohttp->datasets) (4.0.2)\n",
            "Requirement already satisfied: yarl<2.0,>=1.0 in /usr/local/lib/python3.10/dist-packages (from aiohttp->datasets) (1.9.2)\n",
            "Requirement already satisfied: frozenlist>=1.1.1 in /usr/local/lib/python3.10/dist-packages (from aiohttp->datasets) (1.3.3)\n",
            "Requirement already satisfied: aiosignal>=1.1.2 in /usr/local/lib/python3.10/dist-packages (from aiohttp->datasets) (1.3.1)\n",
            "Requirement already satisfied: typing-extensions>=3.7.4.3 in /usr/local/lib/python3.10/dist-packages (from huggingface-hub<1.0.0,>=0.11.0->datasets) (4.6.3)\n",
            "Requirement already satisfied: urllib3<1.27,>=1.21.1 in /usr/local/lib/python3.10/dist-packages (from requests>=2.19.0->datasets) (1.26.16)\n",
            "Requirement already satisfied: certifi>=2017.4.17 in /usr/local/lib/python3.10/dist-packages (from requests>=2.19.0->datasets) (2023.5.7)\n",
            "Requirement already satisfied: idna<4,>=2.5 in /usr/local/lib/python3.10/dist-packages (from requests>=2.19.0->datasets) (3.4)\n",
            "Requirement already satisfied: scipy>=1.3.2 in /usr/local/lib/python3.10/dist-packages (from scikit-learn>=0.21.3->seqeval) (1.10.1)\n",
            "Requirement already satisfied: joblib>=1.1.1 in /usr/local/lib/python3.10/dist-packages (from scikit-learn>=0.21.3->seqeval) (1.2.0)\n",
            "Requirement already satisfied: threadpoolctl>=2.0.0 in /usr/local/lib/python3.10/dist-packages (from scikit-learn>=0.21.3->seqeval) (3.1.0)\n",
            "Requirement already satisfied: python-dateutil>=2.8.1 in /usr/local/lib/python3.10/dist-packages (from pandas->datasets) (2.8.2)\n",
            "Requirement already satisfied: pytz>=2020.1 in /usr/local/lib/python3.10/dist-packages (from pandas->datasets) (2022.7.1)\n",
            "Requirement already satisfied: six>=1.5 in /usr/local/lib/python3.10/dist-packages (from python-dateutil>=2.8.1->pandas->datasets) (1.16.0)\n"
          ]
        }
      ],
      "source": [
        "! pip install datasets transformers seqeval"
      ]
    },
    {
      "cell_type": "markdown",
      "metadata": {
        "id": "5SoDYsMcXqxn"
      },
      "source": [
        "Make sure your version of Transformers is at least 4.11.0 since the functionality was introduced in that version:"
      ]
    },
    {
      "cell_type": "code",
      "execution_count": 2,
      "metadata": {
        "colab": {
          "base_uri": "https://localhost:8080/"
        },
        "id": "ezmo7yMKXqxn",
        "outputId": "65fd9156-15b2-41c2-bbf5-4bb92227d603"
      },
      "outputs": [
        {
          "output_type": "stream",
          "name": "stdout",
          "text": [
            "4.30.2\n"
          ]
        }
      ],
      "source": [
        "import transformers\n",
        "\n",
        "print(transformers.__version__)"
      ]
    },
    {
      "cell_type": "markdown",
      "metadata": {
        "id": "HFASsisvIrIb"
      },
      "source": [
        "You can find a script version of this notebook to fine-tune your model in a distributed fashion using multiple GPUs or TPUs [here](https://github.com/huggingface/transformers/tree/master/examples/token-classification)."
      ]
    },
    {
      "cell_type": "markdown",
      "metadata": {
        "id": "rEJBSTyZIrIb"
      },
      "source": [
        "# Fine-tuning a model on a token classification task"
      ]
    },
    {
      "cell_type": "markdown",
      "metadata": {
        "id": "cSDtL3qdXqxo"
      },
      "source": [
        "In this notebook, we will see how to fine-tune one of the [🤗 Transformers](https://github.com/huggingface/transformers) model to a token classification task, which is the task of predicting a label for each token.\n",
        "\n",
        "![Widget inference representing the NER task](https://github.com/huggingface/notebooks/blob/main/examples/images/token_classification.png?raw=1)\n",
        "\n",
        "The most common token classification tasks are:\n",
        "\n",
        "- NER (Named-entity recognition) Classify the entities in the text (person, organization, location...).\n",
        "- POS (Part-of-speech tagging) Grammatically classify the tokens (noun, verb, adjective...)\n",
        "- Chunk (Chunking) Grammatically classify the tokens and group them into \"chunks\" that go together\n",
        "\n",
        "We will see how to easily load a dataset for these kinds of tasks and use the `Trainer` API to fine-tune a model on it."
      ]
    },
    {
      "cell_type": "markdown",
      "metadata": {
        "id": "4RRkXuteIrIh"
      },
      "source": [
        "This notebook is built to run on any token classification task, with any model checkpoint from the [Model Hub](https://huggingface.co/models) as long as that model has a version with a token classification head and a fast tokenizer (check on [this table](https://huggingface.co/transformers/index.html#bigtable) if this is the case). It might just need some small adjustments if you decide to use a different dataset than the one used here. Depending on you model and the GPU you are using, you might need to adjust the batch size to avoid out-of-memory errors. Set those three parameters, then the rest of the notebook should run smoothly:"
      ]
    },
    {
      "cell_type": "code",
      "execution_count": 3,
      "metadata": {
        "id": "zVvslsfMIrIh"
      },
      "outputs": [],
      "source": [
        "task = \"ner\" # Should be one of \"ner\", \"pos\" or \"chunk\"\n",
        "model_checkpoint = \"distilbert-base-uncased\"\n",
        "batch_size = 16"
      ]
    },
    {
      "cell_type": "markdown",
      "metadata": {
        "id": "whPRbBNbIrIl"
      },
      "source": [
        "## Loading the dataset"
      ]
    },
    {
      "cell_type": "markdown",
      "metadata": {
        "id": "W7QYTpxXIrIl"
      },
      "source": [
        "We will use the [🤗 Datasets](https://github.com/huggingface/datasets) library to download the data and get the metric we need to use for evaluation (to compare our model to the benchmark). This can be easily done with the functions `load_dataset` and `load_metric`.  "
      ]
    },
    {
      "cell_type": "code",
      "execution_count": 4,
      "metadata": {
        "id": "IreSlFmlIrIm"
      },
      "outputs": [],
      "source": [
        "from datasets import load_dataset, load_metric"
      ]
    },
    {
      "cell_type": "markdown",
      "metadata": {
        "id": "CKx2zKs5IrIq"
      },
      "source": [
        "For our example here, we'll use the [CONLL 2003 dataset](https://www.aclweb.org/anthology/W03-0419.pdf). The notebook should work with any token classification dataset provided by the 🤗 Datasets library. If you're using your own dataset defined from a JSON or csv file (see the [Datasets documentation](https://huggingface.co/docs/datasets/loading_datasets.html#from-local-files) on how to load them), it might need some adjustments in the names of the columns used."
      ]
    },
    {
      "cell_type": "code",
      "execution_count": 5,
      "metadata": {
        "colab": {
          "base_uri": "https://localhost:8080/",
          "height": 103,
          "referenced_widgets": [
            "33491cb2ac814b81ad0b7a57491fea73",
            "f3738459d3a146c2952d703b1ad77fa3",
            "bc49386d3d7b4fccb7296a7552ac55f6",
            "e45512cceb0f4a888ed9adea836d565e",
            "3cbb77b39b6c4413bc8b2edf746fb5ca",
            "97ff0c3d278b402b80d42cec8dd920ab",
            "32ce53e1a830446f8a4dfb2f2f62da1f",
            "788e5e8cebf44e8bbd27abb54d95c80c",
            "cc974c06c0b54983ae43e054591bfe32",
            "a3b85c697fe9467182c8539e16d04401",
            "49c503d401e5415bb145ffa65b6dd7fd"
          ]
        },
        "id": "s_AY1ATSIrIq",
        "outputId": "f1c64d83-7aad-4d00-e676-ce27b3d4389a"
      },
      "outputs": [
        {
          "output_type": "stream",
          "name": "stderr",
          "text": [
            "WARNING:datasets.builder:No config specified, defaulting to: privy/small\n",
            "WARNING:datasets.builder:Found cached dataset privy (/root/.cache/huggingface/datasets/beki___privy/small/1.0.0/3cab103dadb9e5d1e6dcd8f4111f6c58b4bf837f404966c462bcf64fcffd9532)\n"
          ]
        },
        {
          "output_type": "display_data",
          "data": {
            "text/plain": [
              "  0%|          | 0/3 [00:00<?, ?it/s]"
            ],
            "application/vnd.jupyter.widget-view+json": {
              "version_major": 2,
              "version_minor": 0,
              "model_id": "33491cb2ac814b81ad0b7a57491fea73"
            }
          },
          "metadata": {}
        }
      ],
      "source": [
        "datasets = load_dataset(\"beki/privy\")"
      ]
    },
    {
      "cell_type": "markdown",
      "metadata": {
        "id": "RzfPtOMoIrIu"
      },
      "source": [
        "The `datasets` object itself is [`DatasetDict`](https://huggingface.co/docs/datasets/package_reference/main_classes.html#datasetdict), which contains one key for the training, validation and test set."
      ]
    },
    {
      "cell_type": "code",
      "execution_count": 6,
      "metadata": {
        "id": "GWiVUF0jIrIv",
        "outputId": "2aa3ff81-addb-4329-a954-9c9a828ef8b1",
        "colab": {
          "base_uri": "https://localhost:8080/"
        }
      },
      "outputs": [
        {
          "output_type": "execute_result",
          "data": {
            "text/plain": [
              "DatasetDict({\n",
              "    train: Dataset({\n",
              "        features: ['full_text', 'masked', 'spans', 'tags', 'tokens', 'template_id', 'metadata'],\n",
              "        num_rows: 100951\n",
              "    })\n",
              "    validation: Dataset({\n",
              "        features: ['full_text', 'masked', 'spans', 'tags', 'tokens', 'template_id', 'metadata'],\n",
              "        num_rows: 14422\n",
              "    })\n",
              "    test: Dataset({\n",
              "        features: ['full_text', 'masked', 'spans', 'tags', 'tokens', 'template_id', 'metadata'],\n",
              "        num_rows: 28843\n",
              "    })\n",
              "})"
            ]
          },
          "metadata": {},
          "execution_count": 6
        }
      ],
      "source": [
        "datasets"
      ]
    },
    {
      "cell_type": "markdown",
      "metadata": {
        "id": "Te_8HpVwXqxq"
      },
      "source": [
        "We can see the training, validation and test sets all have a column for the tokens (the input texts split into words) and one column of labels for each kind of task we introduced before."
      ]
    },
    {
      "cell_type": "markdown",
      "metadata": {
        "id": "u3EtYfeHIrIz"
      },
      "source": [
        "To access an actual element, you need to select a split first, then give an index:"
      ]
    },
    {
      "cell_type": "code",
      "execution_count": 7,
      "metadata": {
        "id": "X6HrpprwIrIz",
        "outputId": "40b02512-4ef7-4a02-e86d-7c6959f2d930",
        "colab": {
          "base_uri": "https://localhost:8080/"
        }
      },
      "outputs": [
        {
          "output_type": "execute_result",
          "data": {
            "text/plain": [
              "{'full_text': 'b\\'<?xml version=\"1.0\" encoding=\"UTF-8\" ?><root><tax-id type=\"str\">994741763</tax-id><email_address type=\"str\">SashaCSchaffer@superrito.com</email_address><api-version type=\"str\"></api-version><host__name type=\"str\">https://www.lightskylounge.com/</host__name></root>\\'',\n",
              " 'masked': 'b\\'<?xml version=\"1.0\" encoding=\"UTF-8\" ?><root><tax-id type=\"str\">{{itin}}</tax-id><email_address type=\"str\">{{email}}</email_address><api-version type=\"str\">{{string}}</api-version><host__name type=\"str\">{{url}}</host__name></root>\\'',\n",
              " 'spans': [\"{'entity_type': 'O', 'entity_value': 'https://www.lightskylounge.com/', 'start_position': 215, 'end_position': 246}\",\n",
              "  \"{'entity_type': 'O', 'entity_value': '', 'start_position': 178, 'end_position': 178}\",\n",
              "  \"{'entity_type': 'O', 'entity_value': 'SashaCSchaffer@superrito.com', 'start_position': 110, 'end_position': 138}\",\n",
              "  \"{'entity_type': 'US_ITIN', 'entity_value': '994741763', 'start_position': 66, 'end_position': 75}\"],\n",
              " 'tags': [0,\n",
              "  0,\n",
              "  0,\n",
              "  0,\n",
              "  0,\n",
              "  0,\n",
              "  0,\n",
              "  0,\n",
              "  0,\n",
              "  0,\n",
              "  0,\n",
              "  0,\n",
              "  0,\n",
              "  0,\n",
              "  0,\n",
              "  0,\n",
              "  0,\n",
              "  0,\n",
              "  0,\n",
              "  0,\n",
              "  0,\n",
              "  0,\n",
              "  0,\n",
              "  0,\n",
              "  0,\n",
              "  0,\n",
              "  0,\n",
              "  0,\n",
              "  0,\n",
              "  68,\n",
              "  0,\n",
              "  0,\n",
              "  0,\n",
              "  0,\n",
              "  0,\n",
              "  0,\n",
              "  0,\n",
              "  0,\n",
              "  0,\n",
              "  0,\n",
              "  0,\n",
              "  0,\n",
              "  0,\n",
              "  4,\n",
              "  0,\n",
              "  0,\n",
              "  0,\n",
              "  0,\n",
              "  0,\n",
              "  0,\n",
              "  0,\n",
              "  0,\n",
              "  0,\n",
              "  0,\n",
              "  0,\n",
              "  0,\n",
              "  1,\n",
              "  3,\n",
              "  0,\n",
              "  0,\n",
              "  0,\n",
              "  0,\n",
              "  0,\n",
              "  0,\n",
              "  0,\n",
              "  0,\n",
              "  0,\n",
              "  0,\n",
              "  0,\n",
              "  0,\n",
              "  4,\n",
              "  0,\n",
              "  0,\n",
              "  0,\n",
              "  0,\n",
              "  0,\n",
              "  0,\n",
              "  0],\n",
              " 'tokens': ['b',\n",
              "  \"'\",\n",
              "  '<',\n",
              "  '?xml',\n",
              "  'version',\n",
              "  '=',\n",
              "  '\"',\n",
              "  '1.0',\n",
              "  '\"',\n",
              "  'encoding',\n",
              "  '=',\n",
              "  '\"',\n",
              "  'UTF-8',\n",
              "  '\"',\n",
              "  '?',\n",
              "  '>',\n",
              "  '<',\n",
              "  'root',\n",
              "  '>',\n",
              "  '<',\n",
              "  'tax',\n",
              "  '-',\n",
              "  'id',\n",
              "  'type',\n",
              "  '=',\n",
              "  '\"',\n",
              "  'str',\n",
              "  '\"',\n",
              "  '>',\n",
              "  '994741763',\n",
              "  '<',\n",
              "  '/tax',\n",
              "  '-',\n",
              "  'id',\n",
              "  '>',\n",
              "  '<',\n",
              "  'email_address',\n",
              "  'type',\n",
              "  '=',\n",
              "  '\"',\n",
              "  'str',\n",
              "  '\"',\n",
              "  '>',\n",
              "  'SashaCSchaffer@superrito.com',\n",
              "  '<',\n",
              "  '/email_address',\n",
              "  '>',\n",
              "  '<',\n",
              "  'api',\n",
              "  '-',\n",
              "  'version',\n",
              "  'type',\n",
              "  '=',\n",
              "  '\"',\n",
              "  'str',\n",
              "  '\"',\n",
              "  '>',\n",
              "  '<',\n",
              "  '/api',\n",
              "  '-',\n",
              "  'version',\n",
              "  '>',\n",
              "  '<',\n",
              "  'host__name',\n",
              "  'type',\n",
              "  '=',\n",
              "  '\"',\n",
              "  'str',\n",
              "  '\"',\n",
              "  '>',\n",
              "  'https://www.lightskylounge.com/',\n",
              "  '<',\n",
              "  '/host__name',\n",
              "  '>',\n",
              "  '<',\n",
              "  '/root',\n",
              "  '>',\n",
              "  \"'\"],\n",
              " 'template_id': 116644,\n",
              " 'metadata': None}"
            ]
          },
          "metadata": {},
          "execution_count": 7
        }
      ],
      "source": [
        "datasets[\"train\"][0]"
      ]
    },
    {
      "cell_type": "markdown",
      "metadata": {
        "id": "phFsozQVXqxq"
      },
      "source": [
        "The labels are already coded as integer ids to be easily usable by our model, but the correspondence with the actual categories is stored in the `features` of the dataset:"
      ]
    },
    {
      "cell_type": "code",
      "execution_count": 8,
      "metadata": {
        "colab": {
          "base_uri": "https://localhost:8080/"
        },
        "id": "DMVWhOpjXqxq",
        "outputId": "67c248b4-497f-47b9-bab2-5ebd1babd2e8"
      },
      "outputs": [
        {
          "output_type": "execute_result",
          "data": {
            "text/plain": [
              "Sequence(feature=ClassLabel(names=['O', 'B-O', 'I-O', 'L-O', 'U-O', 'B-PER', 'I-PER', 'L-PER', 'U-PER', 'B-LOC', 'I-LOC', 'L-LOC', 'U-LOC', 'B-ORG', 'I-ORG', 'L-ORG', 'U-ORG', 'B-NRP', 'I-NRP', 'L-NRP', 'U-NRP', 'B-DATE_TIME', 'I-DATE_TIME', 'L-DATE_TIME', 'U-DATE_TIME', 'B-CREDIT_CARD', 'I-CREDIT_CARD', 'L-CREDIT_CARD', 'U-CREDIT_CARD', 'B-URL', 'I-URL', 'L-URL', 'U-URL', 'B-IBAN_CODE', 'I-IBAN_CODE', 'L-IBAN_CODE', 'U-IBAN_CODE', 'B-US_BANK_NUMBER', 'I-US_BANK_NUMBER', 'L-US_BANK_NUMBER', 'U-US_BANK_NUMBER', 'B-PHONE_NUMBER', 'I-PHONE_NUMBER', 'L-PHONE_NUMBER', 'U-PHONE_NUMBER', 'B-US_SSN', 'I-US_SSN', 'L-US_SSN', 'U-US_SSN', 'B-US_PASSPORT', 'I-US_PASSPORT', 'L-US_PASSPORT', 'U-US_PASSPORT', 'B-US_DRIVER_LICENSE', 'I-US_DRIVER_LICENSE', 'L-US_DRIVER_LICENSE', 'U-US_DRIVER_LICENSE', 'B-US_LICENSE_PLATE', 'I-US_LICENSE_PLATE', 'L-US_LICENSE_PLATE', 'U-US_LICENSE_PLATE', 'B-IP_ADDRESS', 'I-IP_ADDRESS', 'L-IP_ADDRESS', 'U-IP_ADDRESS', 'B-US_ITIN', 'I-US_ITIN', 'L-US_ITIN', 'U-US_ITIN', 'B-EMAIL_ADDRESS', 'I-EMAIL_ADDRESS', 'L-EMAIL_ADDRESS', 'U-EMAIL_ADDRESS', 'B-TITLE', 'I-TITLE', 'L-TITLE', 'U-TITLE', 'B-COORDINATE', 'I-COORDINATE', 'L-COORDINATE', 'U-COORDINATE', 'B-IMEI', 'I-IMEI', 'L-IMEI', 'U-IMEI', 'B-PASSWORD', 'I-PASSWORD', 'L-PASSWORD', 'U-PASSWORD', 'B-LICENSE_PLATE', 'I-LICENSE_PLATE', 'L-LICENSE_PLATE', 'U-LICENSE_PLATE', 'B-CURRENCY', 'I-CURRENCY', 'L-CURRENCY', 'U-CURRENCY', 'B-FINANCIAL', 'I-FINANCIAL', 'L-FINANCIAL', 'U-FINANCIAL', 'B-ROUTING_NUMBER', 'I-ROUTING_NUMBER', 'L-ROUTING_NUMBER', 'U-ROUTING_NUMBER', 'B-SWIFT_CODE', 'I-SWIFT_CODE', 'L-SWIFT_CODE', 'U-SWIFT_CODE', 'B-MAC_ADDRESS', 'I-MAC_ADDRESS', 'L-MAC_ADDRESS', 'U-MAC_ADDRESS', 'B-AGE', 'I-AGE', 'L-AGE', 'U-AGE'], id=None), length=-1, id=None)"
            ]
          },
          "metadata": {},
          "execution_count": 8
        }
      ],
      "source": [
        "datasets[\"train\"].features[f\"tags\"]"
      ]
    },
    {
      "cell_type": "markdown",
      "metadata": {
        "id": "XYqYQI4oXqxq"
      },
      "source": [
        "So for the NER tags, 0 corresponds to 'O', 1 to 'B-PER' etc... On top of the 'O' (which means no special entity), there are four labels for NER here, each prefixed with 'B-' (for beginning) or 'I-' (for intermediate), that indicate if the token is the first one for the current group with the label or not:\n",
        "- 'PER' for person\n",
        "- 'ORG' for organization\n",
        "- 'LOC' for location\n",
        "- 'MISC' for miscellaneous"
      ]
    },
    {
      "cell_type": "markdown",
      "metadata": {
        "id": "8ECaYqtQXqxq"
      },
      "source": [
        "Since the labels are lists of `ClassLabel`, the actual names of the labels are nested in the `feature` attribute of the object above:"
      ]
    },
    {
      "cell_type": "code",
      "execution_count": 9,
      "metadata": {
        "colab": {
          "base_uri": "https://localhost:8080/"
        },
        "id": "AbHSipo_Xqxr",
        "outputId": "82d2ecbe-aed7-4aba-d32d-8f86cd89af73"
      },
      "outputs": [
        {
          "output_type": "execute_result",
          "data": {
            "text/plain": [
              "['O',\n",
              " 'B-O',\n",
              " 'I-O',\n",
              " 'L-O',\n",
              " 'U-O',\n",
              " 'B-PER',\n",
              " 'I-PER',\n",
              " 'L-PER',\n",
              " 'U-PER',\n",
              " 'B-LOC',\n",
              " 'I-LOC',\n",
              " 'L-LOC',\n",
              " 'U-LOC',\n",
              " 'B-ORG',\n",
              " 'I-ORG',\n",
              " 'L-ORG',\n",
              " 'U-ORG',\n",
              " 'B-NRP',\n",
              " 'I-NRP',\n",
              " 'L-NRP',\n",
              " 'U-NRP',\n",
              " 'B-DATE_TIME',\n",
              " 'I-DATE_TIME',\n",
              " 'L-DATE_TIME',\n",
              " 'U-DATE_TIME',\n",
              " 'B-CREDIT_CARD',\n",
              " 'I-CREDIT_CARD',\n",
              " 'L-CREDIT_CARD',\n",
              " 'U-CREDIT_CARD',\n",
              " 'B-URL',\n",
              " 'I-URL',\n",
              " 'L-URL',\n",
              " 'U-URL',\n",
              " 'B-IBAN_CODE',\n",
              " 'I-IBAN_CODE',\n",
              " 'L-IBAN_CODE',\n",
              " 'U-IBAN_CODE',\n",
              " 'B-US_BANK_NUMBER',\n",
              " 'I-US_BANK_NUMBER',\n",
              " 'L-US_BANK_NUMBER',\n",
              " 'U-US_BANK_NUMBER',\n",
              " 'B-PHONE_NUMBER',\n",
              " 'I-PHONE_NUMBER',\n",
              " 'L-PHONE_NUMBER',\n",
              " 'U-PHONE_NUMBER',\n",
              " 'B-US_SSN',\n",
              " 'I-US_SSN',\n",
              " 'L-US_SSN',\n",
              " 'U-US_SSN',\n",
              " 'B-US_PASSPORT',\n",
              " 'I-US_PASSPORT',\n",
              " 'L-US_PASSPORT',\n",
              " 'U-US_PASSPORT',\n",
              " 'B-US_DRIVER_LICENSE',\n",
              " 'I-US_DRIVER_LICENSE',\n",
              " 'L-US_DRIVER_LICENSE',\n",
              " 'U-US_DRIVER_LICENSE',\n",
              " 'B-US_LICENSE_PLATE',\n",
              " 'I-US_LICENSE_PLATE',\n",
              " 'L-US_LICENSE_PLATE',\n",
              " 'U-US_LICENSE_PLATE',\n",
              " 'B-IP_ADDRESS',\n",
              " 'I-IP_ADDRESS',\n",
              " 'L-IP_ADDRESS',\n",
              " 'U-IP_ADDRESS',\n",
              " 'B-US_ITIN',\n",
              " 'I-US_ITIN',\n",
              " 'L-US_ITIN',\n",
              " 'U-US_ITIN',\n",
              " 'B-EMAIL_ADDRESS',\n",
              " 'I-EMAIL_ADDRESS',\n",
              " 'L-EMAIL_ADDRESS',\n",
              " 'U-EMAIL_ADDRESS',\n",
              " 'B-TITLE',\n",
              " 'I-TITLE',\n",
              " 'L-TITLE',\n",
              " 'U-TITLE',\n",
              " 'B-COORDINATE',\n",
              " 'I-COORDINATE',\n",
              " 'L-COORDINATE',\n",
              " 'U-COORDINATE',\n",
              " 'B-IMEI',\n",
              " 'I-IMEI',\n",
              " 'L-IMEI',\n",
              " 'U-IMEI',\n",
              " 'B-PASSWORD',\n",
              " 'I-PASSWORD',\n",
              " 'L-PASSWORD',\n",
              " 'U-PASSWORD',\n",
              " 'B-LICENSE_PLATE',\n",
              " 'I-LICENSE_PLATE',\n",
              " 'L-LICENSE_PLATE',\n",
              " 'U-LICENSE_PLATE',\n",
              " 'B-CURRENCY',\n",
              " 'I-CURRENCY',\n",
              " 'L-CURRENCY',\n",
              " 'U-CURRENCY',\n",
              " 'B-FINANCIAL',\n",
              " 'I-FINANCIAL',\n",
              " 'L-FINANCIAL',\n",
              " 'U-FINANCIAL',\n",
              " 'B-ROUTING_NUMBER',\n",
              " 'I-ROUTING_NUMBER',\n",
              " 'L-ROUTING_NUMBER',\n",
              " 'U-ROUTING_NUMBER',\n",
              " 'B-SWIFT_CODE',\n",
              " 'I-SWIFT_CODE',\n",
              " 'L-SWIFT_CODE',\n",
              " 'U-SWIFT_CODE',\n",
              " 'B-MAC_ADDRESS',\n",
              " 'I-MAC_ADDRESS',\n",
              " 'L-MAC_ADDRESS',\n",
              " 'U-MAC_ADDRESS',\n",
              " 'B-AGE',\n",
              " 'I-AGE',\n",
              " 'L-AGE',\n",
              " 'U-AGE']"
            ]
          },
          "metadata": {},
          "execution_count": 9
        }
      ],
      "source": [
        "label_list = datasets[\"train\"].features[f\"tags\"].feature.names\n",
        "label_list"
      ]
    },
    {
      "cell_type": "markdown",
      "metadata": {
        "id": "WHUmphG3IrI3"
      },
      "source": [
        "To get a sense of what the data looks like, the following function will show some examples picked randomly in the dataset (automatically decoding the labels in passing)."
      ]
    },
    {
      "cell_type": "code",
      "execution_count": 10,
      "metadata": {
        "id": "i3j8APAoIrI3"
      },
      "outputs": [],
      "source": [
        "from datasets import ClassLabel, Sequence\n",
        "import random\n",
        "import pandas as pd\n",
        "from IPython.display import display, HTML\n",
        "\n",
        "def show_random_elements(dataset, num_examples=10):\n",
        "    assert num_examples <= len(dataset), \"Can't pick more elements than there are in the dataset.\"\n",
        "    picks = []\n",
        "    for _ in range(num_examples):\n",
        "        pick = random.randint(0, len(dataset)-1)\n",
        "        while pick in picks:\n",
        "            pick = random.randint(0, len(dataset)-1)\n",
        "        picks.append(pick)\n",
        "\n",
        "    df = pd.DataFrame(dataset[picks])\n",
        "    for column, typ in dataset.features.items():\n",
        "        if isinstance(typ, ClassLabel):\n",
        "            df[column] = df[column].transform(lambda i: typ.names[i])\n",
        "        elif isinstance(typ, Sequence) and isinstance(typ.feature, ClassLabel):\n",
        "            df[column] = df[column].transform(lambda x: [typ.feature.names[i] for i in x])\n",
        "    display(HTML(df.to_html()))"
      ]
    },
    {
      "cell_type": "code",
      "execution_count": 11,
      "metadata": {
        "id": "SZy5tRB_IrI7",
        "outputId": "f0fbe5c7-e403-47d6-cf6a-d7d9a7ad09f2",
        "scrolled": true,
        "colab": {
          "base_uri": "https://localhost:8080/",
          "height": 1000
        }
      },
      "outputs": [
        {
          "output_type": "display_data",
          "data": {
            "text/plain": [
              "<IPython.core.display.HTML object>"
            ],
            "text/html": [
              "<table border=\"1\" class=\"dataframe\">\n",
              "  <thead>\n",
              "    <tr style=\"text-align: right;\">\n",
              "      <th></th>\n",
              "      <th>full_text</th>\n",
              "      <th>masked</th>\n",
              "      <th>spans</th>\n",
              "      <th>tags</th>\n",
              "      <th>tokens</th>\n",
              "      <th>template_id</th>\n",
              "      <th>metadata</th>\n",
              "    </tr>\n",
              "  </thead>\n",
              "  <tbody>\n",
              "    <tr>\n",
              "      <th>0</th>\n",
              "      <td>&lt;table border=\"1\"&gt;&lt;tr&gt;&lt;th&gt;anomalyInstanceId&lt;/th&gt;&lt;td&gt;sa1S EW EW&lt;/td&gt;&lt;/tr&gt;&lt;tr&gt;&lt;th&gt;profilingGroupName&lt;/th&gt;&lt;td&gt;thXO thXO IMjBT&lt;/td&gt;&lt;/tr&gt;&lt;tr&gt;&lt;th&gt;full_name_male&lt;/th&gt;&lt;td&gt;Cleveland Garcia&lt;/td&gt;&lt;/tr&gt;&lt;/table&gt;</td>\n",
              "      <td>&lt;table border=\"1\"&gt;&lt;tr&gt;&lt;th&gt;anomalyInstanceId&lt;/th&gt;&lt;td&gt;{{string}}&lt;/td&gt;&lt;/tr&gt;&lt;tr&gt;&lt;th&gt;profilingGroupName&lt;/th&gt;&lt;td&gt;{{string}}&lt;/td&gt;&lt;/tr&gt;&lt;tr&gt;&lt;th&gt;full_name_male&lt;/th&gt;&lt;td&gt;{{name_male}}&lt;/td&gt;&lt;/tr&gt;&lt;/table&gt;</td>\n",
              "      <td>[{'entity_type': 'PER', 'entity_value': 'Cleveland Garcia', 'start_position': 163, 'end_position': 179}, {'entity_type': 'O', 'entity_value': 'thXO thXO IMjBT', 'start_position': 107, 'end_position': 122}, {'entity_type': 'O', 'entity_value': 'sa1S EW EW', 'start_position': 52, 'end_position': 62}]</td>\n",
              "      <td>[O, O, O, O, O, O, O, O, O, O, O, O, O, O, O, O, O, O, O, O, O, B-O, I-O, L-O, O, O, O, O, O, O, O, O, O, O, O, O, O, O, O, O, O, O, O, B-O, I-O, L-O, O, O, O, O, O, O, O, O, O, O, O, O, O, O, O, O, O, O, O, B-PER, L-PER, O, O, O, O, O, O, O, O, O]</td>\n",
              "      <td>[&lt;, table, border, =, \", 1, \", &gt;, &lt;, tr, &gt;, &lt;, th, &gt;, anomalyInstanceId, &lt;, /th, &gt;, &lt;, td, &gt;, sa1S, EW, EW, &lt;, /td, &gt;, &lt;, /tr, &gt;, &lt;, tr, &gt;, &lt;, th, &gt;, profilingGroupName, &lt;, /th, &gt;, &lt;, td, &gt;, thXO, thXO, IMjBT, &lt;, /td, &gt;, &lt;, /tr, &gt;, &lt;, tr, &gt;, &lt;, th, &gt;, full_name_male, &lt;, /th, &gt;, &lt;, td, &gt;, Cleveland, Garcia, &lt;, /td, &gt;, &lt;, /tr, &gt;, &lt;, /table, &gt;]</td>\n",
              "      <td>19276</td>\n",
              "      <td>None</td>\n",
              "    </tr>\n",
              "    <tr>\n",
              "      <th>1</th>\n",
              "      <td>&lt;table border=\"1\"&gt;&lt;tr&gt;&lt;th&gt;given-name-nonbinary&lt;/th&gt;&lt;td&gt;Lisa&lt;/td&gt;&lt;/tr&gt;&lt;tr&gt;&lt;th&gt;fields[builds]&lt;/th&gt;&lt;td&gt;&lt;/td&gt;&lt;/tr&gt;&lt;/table&gt;</td>\n",
              "      <td>&lt;table border=\"1\"&gt;&lt;tr&gt;&lt;th&gt;given-name-nonbinary&lt;/th&gt;&lt;td&gt;{{first_name_nonbinary}}&lt;/td&gt;&lt;/tr&gt;&lt;tr&gt;&lt;th&gt;fields[builds]&lt;/th&gt;&lt;td&gt;{{string}}&lt;/td&gt;&lt;/tr&gt;&lt;/table&gt;</td>\n",
              "      <td>[{'entity_type': 'O', 'entity_value': '', 'start_position': 100, 'end_position': 100}, {'entity_type': 'PER', 'entity_value': 'Lisa', 'start_position': 55, 'end_position': 59}]</td>\n",
              "      <td>[O, O, O, O, O, O, O, O, O, O, O, O, O, O, O, O, O, O, O, O, O, O, O, O, O, U-PER, O, O, O, O, O, O, O, O, O, O, O, O, O, O, O, O, O, O, B-O, L-O, O, O, O, O, O, O, O, O]</td>\n",
              "      <td>[&lt;, table, border, =, \", 1, \", &gt;, &lt;, tr, &gt;, &lt;, th, &gt;, given, -, name, -, nonbinary, &lt;, /th, &gt;, &lt;, td, &gt;, Lisa, &lt;, /td, &gt;, &lt;, /tr, &gt;, &lt;, tr, &gt;, &lt;, th, &gt;, fields[builds], &lt;, /th, &gt;, &lt;, td, &gt;, &lt;, /td, &gt;, &lt;, /tr, &gt;, &lt;, /table, &gt;]</td>\n",
              "      <td>100319</td>\n",
              "      <td>None</td>\n",
              "    </tr>\n",
              "    <tr>\n",
              "      <th>2</th>\n",
              "      <td>{\"Version\": \"twQUEzLuXN twQUEzLuXN\", \"EnableCloudwatchLogsExports\": \"\", \"Tags\": \"K c8xlvr K\", \"DBSubnetGroupName\": \"PEVU\", \"VpcSecurityGroupIds\": \"n6bTDNM0\", \"RestoreToTime\": \"uLZBKOjG uLZBKOjG\", \"family name\": \"Wilson\", \"Port\": \"4663\", \"Action\": \"2Wq\", \"KmsKeyId\": \"hCEnSlMwTp\", \"DeletionProtection\": \"False\", \"DBClusterIdentifier\": \"m\", \"SourceDBClusterIdentifier\": \"GsSFA JDf\", \"UseLatestRestorableTime\": \"False\"}</td>\n",
              "      <td>{\"Version\": \"{{string}}\", \"EnableCloudwatchLogsExports\": \"{{string}}\", \"Tags\": \"{{string}}\", \"DBSubnetGroupName\": \"{{string}}\", \"VpcSecurityGroupIds\": \"{{string}}\", \"RestoreToTime\": \"{{string}}\", \"family name\": \"{{last_name}}\", \"Port\": \"{{random_number}}\", \"Action\": \"{{string}}\", \"KmsKeyId\": \"{{string}}\", \"DeletionProtection\": \"{{boolean}}\", \"DBClusterIdentifier\": \"{{string}}\", \"SourceDBClusterIdentifier\": \"{{string}}\", \"UseLatestRestorableTime\": \"{{boolean}}\"}</td>\n",
              "      <td>[{'entity_type': 'O', 'entity_value': 'False', 'start_position': 409, 'end_position': 414}, {'entity_type': 'O', 'entity_value': 'GsSFA JDf', 'start_position': 369, 'end_position': 378}, {'entity_type': 'O', 'entity_value': 'm', 'start_position': 335, 'end_position': 336}, {'entity_type': 'O', 'entity_value': 'False', 'start_position': 303, 'end_position': 308}, {'entity_type': 'O', 'entity_value': 'hCEnSlMwTp', 'start_position': 267, 'end_position': 277}, {'entity_type': 'O', 'entity_value': '2Wq', 'start_position': 248, 'end_position': 251}, {'entity_type': 'O', 'entity_value': '4663', 'start_position': 230, 'end_position': 234}, {'entity_type': 'PER', 'entity_value': 'Wilson', 'start_position': 212, 'end_position': 218}, {'entity_type': 'O', 'entity_value': 'uLZBKOjG uLZBKOjG', 'start_position': 176, 'end_position': 193}, {'entity_type': 'O', 'entity_value': 'n6bTDNM0', 'start_position': 147, 'end_position': 155}, {'entity_type': 'O', 'entity_value': 'PEVU', 'start_position': 116, 'end_position': 120}, {'entity_type': 'O', 'entity_value': 'K c8xlvr K', 'start_position': 81, 'end_position': 91}, {'entity_type': 'O', 'entity_value': '', 'start_position': 69, 'end_position': 69}, {'entity_type': 'O', 'entity_value': 'twQUEzLuXN twQUEzLuXN', 'start_position': 13, 'end_position': 34}]</td>\n",
              "      <td>[O, O, O, O, O, O, B-O, L-O, O, O, O, O, O, O, B-O, L-O, O, O, O, O, O, O, B-O, I-O, L-O, O, O, O, O, O, O, O, U-O, O, O, O, O, O, O, O, U-O, O, O, O, O, O, O, O, B-O, L-O, O, O, O, O, O, O, O, O, U-PER, O, O, O, O, O, O, O, U-O, O, O, O, O, O, O, O, U-O, O, O, O, O, O, O, O, U-O, O, O, O, O, O, O, O, U-O, O, O, O, O, O, O, O, U-O, O, ...]</td>\n",
              "      <td>[{, \", Version, \", :, \", twQUEzLuXN, twQUEzLuXN, \", ,, \", EnableCloudwatchLogsExports, \", :, \", \", ,, \", Tags, \", :, \", K, c8xlvr, K, \", ,, \", DBSubnetGroupName, \", :, \", PEVU, \", ,, \", VpcSecurityGroupIds, \", :, \", n6bTDNM0, \", ,, \", RestoreToTime, \", :, \", uLZBKOjG, uLZBKOjG, \", ,, \", family, name, \", :, \", Wilson, \", ,, \", Port, \", :, \", 4663, \", ,, \", Action, \", :, \", 2Wq, \", ,, \", KmsKeyId, \", :, \", hCEnSlMwTp, \", ,, \", DeletionProtection, \", :, \", False, \", ,, \", DBClusterIdentifier, \", :, \", m, \", ...]</td>\n",
              "      <td>23501</td>\n",
              "      <td>None</td>\n",
              "    </tr>\n",
              "    <tr>\n",
              "      <th>3</th>\n",
              "      <td>{\"$filter\": \"\", \"skipCount\": \"881707903\", \"given_name_nonbinary\": \"Tyler\", \"api-version\": \"\", \"takeCount\": \"4989\", \"serviceType\": \"meJBr1lHk8\"}</td>\n",
              "      <td>{\"$filter\": \"{{string}}\", \"skipCount\": \"{{random_number}}\", \"given_name_nonbinary\": \"{{first_name_nonbinary}}\", \"api-version\": \"{{string}}\", \"takeCount\": \"{{random_number}}\", \"serviceType\": \"{{string}}\"}</td>\n",
              "      <td>[{'entity_type': 'O', 'entity_value': 'meJBr1lHk8', 'start_position': 131, 'end_position': 141}, {'entity_type': 'O', 'entity_value': '4989', 'start_position': 108, 'end_position': 112}, {'entity_type': 'O', 'entity_value': '', 'start_position': 91, 'end_position': 91}, {'entity_type': 'PER', 'entity_value': 'Tyler', 'start_position': 67, 'end_position': 72}, {'entity_type': 'O', 'entity_value': '881707903', 'start_position': 30, 'end_position': 39}, {'entity_type': 'O', 'entity_value': '', 'start_position': 13, 'end_position': 13}]</td>\n",
              "      <td>[O, O, O, O, O, O, B-O, L-O, O, O, O, O, O, O, U-O, O, O, O, O, O, O, O, U-PER, O, O, O, O, O, O, O, O, B-O, L-O, O, O, O, O, O, O, U-O, O, O, O, O, O, O, O, U-O, O, O]</td>\n",
              "      <td>[{, \", $, filter, \", :, \", \", ,, \", skipCount, \", :, \", 881707903, \", ,, \", given_name_nonbinary, \", :, \", Tyler, \", ,, \", api, -, version, \", :, \", \", ,, \", takeCount, \", :, \", 4989, \", ,, \", serviceType, \", :, \", meJBr1lHk8, \", }]</td>\n",
              "      <td>108366</td>\n",
              "      <td>None</td>\n",
              "    </tr>\n",
              "    <tr>\n",
              "      <th>4</th>\n",
              "      <td>{\"ReservedInstancesId\": \"dyag\", \"Version\": \"xo LXkBm\", \"DryRun\": \"True\", \"address\": \"5384 4326 Rosebud Avenue Apt. 786\\nPhoenix, AZ 72590\", \"Action\": \"\", \"religion\": \"Hinduism\"}</td>\n",
              "      <td>{\"ReservedInstancesId\": \"{{string}}\", \"Version\": \"{{string}}\", \"DryRun\": \"{{boolean}}\", \"address\": \"{{address}}\", \"Action\": \"{{string}}\", \"religion\": \"{{religion}}\"}</td>\n",
              "      <td>[{'entity_type': 'NRP', 'entity_value': 'Hinduism', 'start_position': 166, 'end_position': 174}, {'entity_type': 'O', 'entity_value': '', 'start_position': 150, 'end_position': 150}, {'entity_type': 'LOC', 'entity_value': '5384 4326 Rosebud Avenue Apt. 786\\nPhoenix, AZ 72590', 'start_position': 85, 'end_position': 136}, {'entity_type': 'O', 'entity_value': 'True', 'start_position': 66, 'end_position': 70}, {'entity_type': 'O', 'entity_value': 'xo LXkBm', 'start_position': 44, 'end_position': 52}, {'entity_type': 'O', 'entity_value': 'dyag', 'start_position': 25, 'end_position': 29}]</td>\n",
              "      <td>[O, O, O, O, O, O, U-O, O, O, O, O, O, O, O, B-O, L-O, O, O, O, O, O, O, O, U-O, O, O, O, O, O, O, O, B-LOC, I-LOC, I-LOC, I-LOC, I-LOC, I-LOC, I-LOC, I-LOC, I-LOC, I-LOC, I-LOC, L-LOC, O, O, O, O, O, O, B-O, L-O, O, O, O, O, O, O, U-NRP, O, O]</td>\n",
              "      <td>[{, \", ReservedInstancesId, \", :, \", dyag, \", ,, \", Version, \", :, \", xo, LXkBm, \", ,, \", DryRun, \", :, \", True, \", ,, \", address, \", :, \", 5384, 4326, Rosebud, Avenue, Apt, ., 786, \\n, Phoenix, ,, AZ, 72590, \", ,, \", Action, \", :, \", \", ,, \", religion, \", :, \", Hinduism, \", }]</td>\n",
              "      <td>28781</td>\n",
              "      <td>None</td>\n",
              "    </tr>\n",
              "    <tr>\n",
              "      <th>5</th>\n",
              "      <td>&lt;table border=\"1\"&gt;&lt;tr&gt;&lt;th&gt;to__contact&lt;/th&gt;&lt;td&gt;FrancesTMontana@teleworm.us&lt;/td&gt;&lt;/tr&gt;&lt;tr&gt;&lt;th&gt;lic_plate&lt;/th&gt;&lt;td&gt;017 QHB&lt;/td&gt;&lt;/tr&gt;&lt;tr&gt;&lt;th&gt;app_id&lt;/th&gt;&lt;td&gt;lXAB9pD YSC&lt;/td&gt;&lt;/tr&gt;&lt;tr&gt;&lt;th&gt;tax-id&lt;/th&gt;&lt;td&gt;939867987&lt;/td&gt;&lt;/tr&gt;&lt;tr&gt;&lt;th&gt;driving license&lt;/th&gt;&lt;td&gt;23VyV76841&lt;/td&gt;&lt;/tr&gt;&lt;tr&gt;&lt;th&gt;national identity&lt;/th&gt;&lt;td&gt;066481157&lt;/td&gt;&lt;/tr&gt;&lt;tr&gt;&lt;th&gt;contactphone&lt;/th&gt;&lt;td&gt;720-229-1585&lt;/td&gt;&lt;/tr&gt;&lt;/table&gt;</td>\n",
              "      <td>&lt;table border=\"1\"&gt;&lt;tr&gt;&lt;th&gt;to__contact&lt;/th&gt;&lt;td&gt;{{email}}&lt;/td&gt;&lt;/tr&gt;&lt;tr&gt;&lt;th&gt;lic_plate&lt;/th&gt;&lt;td&gt;{{license_plate}}&lt;/td&gt;&lt;/tr&gt;&lt;tr&gt;&lt;th&gt;app_id&lt;/th&gt;&lt;td&gt;{{string}}&lt;/td&gt;&lt;/tr&gt;&lt;tr&gt;&lt;th&gt;tax-id&lt;/th&gt;&lt;td&gt;{{itin}}&lt;/td&gt;&lt;/tr&gt;&lt;tr&gt;&lt;th&gt;driving license&lt;/th&gt;&lt;td&gt;{{driver_license}}&lt;/td&gt;&lt;/tr&gt;&lt;tr&gt;&lt;th&gt;national identity&lt;/th&gt;&lt;td&gt;{{passport}}&lt;/td&gt;&lt;/tr&gt;&lt;tr&gt;&lt;th&gt;contactphone&lt;/th&gt;&lt;td&gt;{{phone_number}}&lt;/td&gt;&lt;/tr&gt;&lt;/table&gt;</td>\n",
              "      <td>[{'entity_type': 'O', 'entity_value': '720-229-1585', 'start_position': 346, 'end_position': 358}, {'entity_type': 'US_PASSPORT', 'entity_value': '066481157', 'start_position': 298, 'end_position': 307}, {'entity_type': 'US_DRIVER_LICENSE', 'entity_value': '23VyV76841', 'start_position': 244, 'end_position': 254}, {'entity_type': 'US_ITIN', 'entity_value': '939867987', 'start_position': 193, 'end_position': 202}, {'entity_type': 'O', 'entity_value': 'lXAB9pD YSC', 'start_position': 149, 'end_position': 160}, {'entity_type': 'US_LICENSE_PLATE', 'entity_value': '017 QHB', 'start_position': 109, 'end_position': 116}, {'entity_type': 'O', 'entity_value': 'FrancesTMontana@teleworm.us', 'start_position': 46, 'end_position': 73}]</td>\n",
              "      <td>[O, O, O, O, O, O, O, O, O, O, O, O, O, O, O, O, O, O, O, O, O, U-O, O, O, O, O, O, O, O, O, O, O, O, O, O, O, O, O, O, O, O, B-US_LICENSE_PLATE, L-US_LICENSE_PLATE, O, O, O, O, O, O, O, O, O, O, O, O, O, O, O, O, O, O, O, B-O, L-O, O, O, O, O, O, O, O, O, O, O, O, O, O, O, O, O, O, O, O, O, O, U-US_ITIN, O, O, O, O, O, O, O, O, O, O, O, O, O, O, ...]</td>\n",
              "      <td>[&lt;, table, border, =, \", 1, \", &gt;, &lt;, tr, &gt;, &lt;, th, &gt;, to__contact, &lt;, /th, &gt;, &lt;, td, &gt;, FrancesTMontana@teleworm.us, &lt;, /td, &gt;, &lt;, /tr, &gt;, &lt;, tr, &gt;, &lt;, th, &gt;, lic_plate, &lt;, /th, &gt;, &lt;, td, &gt;, 017, QHB, &lt;, /td, &gt;, &lt;, /tr, &gt;, &lt;, tr, &gt;, &lt;, th, &gt;, app_id, &lt;, /th, &gt;, &lt;, td, &gt;, lXAB9pD, YSC, &lt;, /td, &gt;, &lt;, /tr, &gt;, &lt;, tr, &gt;, &lt;, th, &gt;, tax, -, id, &lt;, /th, &gt;, &lt;, td, &gt;, 939867987, &lt;, /td, &gt;, &lt;, /tr, &gt;, &lt;, tr, &gt;, &lt;, th, &gt;, driving, license, ...]</td>\n",
              "      <td>723</td>\n",
              "      <td>None</td>\n",
              "    </tr>\n",
              "    <tr>\n",
              "      <th>6</th>\n",
              "      <td>UPDATE \"common\" SET \"week__day\"='Wednesday' FROM \"common\" WHERE (\"common\".\"week__day\"='Sunday' OR \"common\".\"week__day\"='move') AND (\"common\".\"thingGroupName\"='' OR \"common\".\"thingGroupName\"='traditional')</td>\n",
              "      <td>UPDATE \"common\" SET \"week__day\"='{{day_of_week}}' FROM \"common\" WHERE (\"common\".\"week__day\"='{{day_of_week}}' OR \"common\".\"week__day\"='move') AND (\"common\".\"thingGroupName\"='{{string}}' OR \"common\".\"thingGroupName\"='traditional')</td>\n",
              "      <td>[{'entity_type': 'O', 'entity_value': '', 'start_position': 159, 'end_position': 159}, {'entity_type': 'DATE_TIME', 'entity_value': 'Sunday', 'start_position': 87, 'end_position': 93}, {'entity_type': 'DATE_TIME', 'entity_value': 'Wednesday', 'start_position': 33, 'end_position': 42}]</td>\n",
              "      <td>[O, O, O, O, O, O, O, O, O, O, U-DATE_TIME, O, O, O, O, O, O, O, O, O, O, O, O, O, O, O, O, U-DATE_TIME, O, O, O, O, O, O, O, O, O, O, O, O, O, O, O, O, O, O, O, O, O, O, O, O, U-O, O, O, O, O, O, O, O, O, O, O, O, O, O]</td>\n",
              "      <td>[UPDATE, \", common, \", SET, \", week__day, \", =, ', Wednesday, ', FROM, \", common, \", WHERE, (, \", common, \", ., \", week__day, \", =, ', Sunday, ', OR, \", common, \", ., \", week__day, \", =, ', move, ', ), AND, (, \", common, \", ., \", thingGroupName, \", =, '', OR, \", common, \", ., \", thingGroupName, \", =, ', traditional, ', )]</td>\n",
              "      <td>52818</td>\n",
              "      <td>None</td>\n",
              "    </tr>\n",
              "    <tr>\n",
              "      <th>7</th>\n",
              "      <td>{\"api-version\": \"t vZhEXSFB\", \"routing_number\": \"111577972\"}</td>\n",
              "      <td>{\"api-version\": \"{{string}}\", \"routing_number\": \"{{aba}}\"}</td>\n",
              "      <td>[{'entity_type': 'FINANCIAL', 'entity_value': '111577972', 'start_position': 49, 'end_position': 58}, {'entity_type': 'O', 'entity_value': 't vZhEXSFB', 'start_position': 17, 'end_position': 27}]</td>\n",
              "      <td>[O, O, O, O, O, O, O, O, B-O, L-O, O, O, O, O, O, O, O, U-FINANCIAL, O, O]</td>\n",
              "      <td>[{, \", api, -, version, \", :, \", t, vZhEXSFB, \", ,, \", routing_number, \", :, \", 111577972, \", }]</td>\n",
              "      <td>143044</td>\n",
              "      <td>None</td>\n",
              "    </tr>\n",
              "    <tr>\n",
              "      <th>8</th>\n",
              "      <td>INSERT INTO `star` (`IamInstanceProfile,KernelId,ImageId,BlockDeviceMappings,Action,LaunchConfigurationName,EbsOptimized,RamdiskId,ClassicLinkVPCId,week day,AssociatePublicIpAddress,PlacementTenancy,SpotPrice,InstanceMonitoring,MetadataOptions,ClassicLinkVPCSecurityGroups,InstanceType,InstanceId,SecurityGroups`) VALUES ('zE,D cTK cTK,nNgv nNgv Tsg,YEmZC Mn1 YEmZC,kiUMIFh kiUMIFh,,True,vPb5JygA YOJbVdUANt,,Monday,False,0rg7lh3,oEMq,SQDepoh B3R SQDepoh,d4t cJSQyjXFK cJSQyjXFK,VAvOIoetZG VAvOIoetZG,sYyuV 19n8gt,AIku,xzeLECRgk xzeLECRgk')</td>\n",
              "      <td>INSERT INTO `star` (`IamInstanceProfile,KernelId,ImageId,BlockDeviceMappings,Action,LaunchConfigurationName,EbsOptimized,RamdiskId,ClassicLinkVPCId,week day,AssociatePublicIpAddress,PlacementTenancy,SpotPrice,InstanceMonitoring,MetadataOptions,ClassicLinkVPCSecurityGroups,InstanceType,InstanceId,SecurityGroups`) VALUES ('{{string}},{{string}},{{string}},{{string}},{{string}},{{string}},{{boolean}},{{string}},{{string}},{{day_of_week}},{{boolean}},{{string}},{{string}},{{string}},{{string}},{{string}},{{string}},{{string}},{{string}}')</td>\n",
              "      <td>[{'entity_type': 'O', 'entity_value': 'xzeLECRgk xzeLECRgk', 'start_position': 519, 'end_position': 538}, {'entity_type': 'O', 'entity_value': 'AIku', 'start_position': 514, 'end_position': 518}, {'entity_type': 'O', 'entity_value': 'sYyuV 19n8gt', 'start_position': 501, 'end_position': 513}, {'entity_type': 'O', 'entity_value': 'VAvOIoetZG VAvOIoetZG', 'start_position': 479, 'end_position': 500}, {'entity_type': 'O', 'entity_value': 'd4t cJSQyjXFK cJSQyjXFK', 'start_position': 455, 'end_position': 478}, {'entity_type': 'O', 'entity_value': 'SQDepoh B3R SQDepoh', 'start_position': 435, 'end_position': 454}, {'entity_type': 'O', 'entity_value': 'oEMq', 'start_position': 430, 'end_position': 434}, {'entity_type': 'O', 'entity_value': '0rg7lh3', 'start_position': 422, 'end_position': 429}, {'entity_type': 'O', 'entity_value': 'False', 'start_position': 416, 'end_position': 421}, {'entity_type': 'DATE_TIME', 'entity_value': 'Monday', 'start_position': 409, 'end_position': 415}, {'entity_type': 'O', 'entity_value': '', 'start_position': 408, 'end_position': 408}, {'entity_type': 'O', 'entity_value': 'vPb5JygA YOJbVdUANt', 'start_position': 388, 'end_position': 407}, {'entity_type': 'O', 'entity_value': 'True', 'start_position': 383, 'end_position': 387}, {'entity_type': 'O', 'entity_value': '', 'start_position': 382, 'end_position': 382}, {'entity_type': 'O', 'entity_value': 'kiUMIFh kiUMIFh', 'start_position': 366, 'end_position': 381}, {'entity_type': 'O', 'entity_value': 'YEmZC Mn1 YEmZC', 'start_position': 350, 'end_position': 365}, {'entity_type': 'O', 'entity_value': 'nNgv nNgv Tsg', 'start_position': 336, 'end_position': 349}, {'entity_type': 'O', 'entity_value': 'D cTK cTK', 'start_position': 326, 'end_position': 335}, {'entity_type': 'O', 'entity_value': 'zE', 'start_position': 323, 'end_position': 325}]</td>\n",
              "      <td>[O, O, O, O, O, O, O, O, O, O, O, O, O, O, O, O, O, O, O, O, O, O, O, O, O, O, O, O, O, O, O, O, O, O, O, O, O, O, O, O, O, O, O, O, O, O, O, O, O, O, U-O, O, B-O, I-O, L-O, O, B-O, I-O, L-O, O, B-O, I-O, L-O, O, B-O, I-O, I-O, L-O, U-O, O, B-O, I-O, I-O, L-O, U-DATE_TIME, O, U-O, O, U-O, O, U-O, O, B-O, I-O, L-O, O, B-O, I-O, I-O, L-O, O, B-O, L-O, O, B-O, L-O, O, U-O, O, B-O, ...]</td>\n",
              "      <td>[INSERT, INTO, `, star, `, (, `, IamInstanceProfile, ,, KernelId, ,, ImageId, ,, BlockDeviceMappings, ,, Action, ,, LaunchConfigurationName, ,, EbsOptimized, ,, RamdiskId, ,, ClassicLinkVPCId, ,, week, day, ,, AssociatePublicIpAddress, ,, PlacementTenancy, ,, SpotPrice, ,, InstanceMonitoring, ,, MetadataOptions, ,, ClassicLinkVPCSecurityGroups, ,, InstanceType, ,, InstanceId, ,, SecurityGroups, `, ), VALUES, (, ', zE, ,, D, cTK, cTK, ,, nNgv, nNgv, Tsg, ,, YEmZC, Mn1, YEmZC, ,, kiUMIFh, kiUMIFh, ,, ,, True, ,, vPb5JygA, YOJbVdUANt, ,, ,, Monday, ,, False, ,, 0rg7lh3, ,, oEMq, ,, SQDepoh, B3R, SQDepoh, ,, d4, t, cJSQyjXFK, cJSQyjXFK, ,, VAvOIoetZG, VAvOIoetZG, ,, sYyuV, 19n8gt, ,, AIku, ,, xzeLECRgk, ...]</td>\n",
              "      <td>11122</td>\n",
              "      <td>None</td>\n",
              "    </tr>\n",
              "    <tr>\n",
              "      <th>9</th>\n",
              "      <td>UPDATE `about` SET `owner_name`='gMF' FROM `about` WHERE `about`.`owner_name`='' AND `about`.`app_name` AND `about`.`key_store_password` AND `about`.`errorId`='TVuXcH'</td>\n",
              "      <td>UPDATE `about` SET `owner_name`='{{string}}' FROM `about` WHERE `about`.`owner_name`='{{string}}' AND `about`.`app_name` AND `about`.`key_store_password` AND `about`.`errorId`='{{string}}'</td>\n",
              "      <td>[{'entity_type': 'O', 'entity_value': 'TVuXcH', 'start_position': 160, 'end_position': 166}, {'entity_type': 'O', 'entity_value': '', 'start_position': 79, 'end_position': 79}, {'entity_type': 'O', 'entity_value': 'gMF', 'start_position': 33, 'end_position': 36}]</td>\n",
              "      <td>[O, O, O, O, O, O, O, O, O, U-O, O, O, O, O, O, O, O, O, O, O, O, U-O, O, O, O, O, O, O, O, O, O, O, O, O, O, O, O, O, O, O, O, U-O, O]</td>\n",
              "      <td>[UPDATE, `, about, `, SET, `, owner_name`, =, ', gMF, ', FROM, `, about, `, WHERE, `, about`, ., `owner_name`, =, '', AND, `, about`, ., `app_name, `, AND, `, about`, ., `key_store_password, `, AND, `, about`, ., `errorId`, =, ', TVuXcH, ']</td>\n",
              "      <td>97241</td>\n",
              "      <td>None</td>\n",
              "    </tr>\n",
              "  </tbody>\n",
              "</table>"
            ]
          },
          "metadata": {}
        }
      ],
      "source": [
        "show_random_elements(datasets[\"train\"])"
      ]
    },
    {
      "cell_type": "markdown",
      "metadata": {
        "id": "n9qywopnIrJH"
      },
      "source": [
        "## Preprocessing the data"
      ]
    },
    {
      "cell_type": "markdown",
      "metadata": {
        "id": "YVx71GdAIrJH"
      },
      "source": [
        "Before we can feed those texts to our model, we need to preprocess them. This is done by a 🤗 Transformers `Tokenizer` which will (as the name indicates) tokenize the inputs (including converting the tokens to their corresponding IDs in the pretrained vocabulary) and put it in a format the model expects, as well as generate the other inputs that model requires.\n",
        "\n",
        "To do all of this, we instantiate our tokenizer with the `AutoTokenizer.from_pretrained` method, which will ensure:\n",
        "\n",
        "- we get a tokenizer that corresponds to the model architecture we want to use,\n",
        "- we download the vocabulary used when pretraining this specific checkpoint.\n",
        "\n",
        "That vocabulary will be cached, so it's not downloaded again the next time we run the cell."
      ]
    },
    {
      "cell_type": "code",
      "execution_count": 12,
      "metadata": {
        "id": "eXNLu_-nIrJI"
      },
      "outputs": [],
      "source": [
        "from transformers import AutoTokenizer\n",
        "\n",
        "tokenizer = AutoTokenizer.from_pretrained(model_checkpoint)"
      ]
    },
    {
      "cell_type": "markdown",
      "metadata": {
        "id": "Vl6IidfdIrJK"
      },
      "source": [
        "The following assertion ensures that our tokenizer is a fast tokenizers (backed by Rust) from the 🤗 Tokenizers library. Those fast tokenizers are available for almost all models, and we will need some of the special features they have for our preprocessing."
      ]
    },
    {
      "cell_type": "code",
      "execution_count": 13,
      "metadata": {
        "id": "HpjnlxRGXqxs"
      },
      "outputs": [],
      "source": [
        "import transformers\n",
        "assert isinstance(tokenizer, transformers.PreTrainedTokenizerFast)"
      ]
    },
    {
      "cell_type": "markdown",
      "metadata": {
        "id": "HI4UtxzfXqxt"
      },
      "source": [
        "You can check which type of models have a fast tokenizer available and which don't on the [big table of models](https://huggingface.co/transformers/index.html#bigtable)."
      ]
    },
    {
      "cell_type": "markdown",
      "metadata": {
        "id": "rowT4iCLIrJK"
      },
      "source": [
        "You can directly call this tokenizer on one sentence:"
      ]
    },
    {
      "cell_type": "code",
      "execution_count": 14,
      "metadata": {
        "id": "a5hBlsrHIrJL",
        "outputId": "9ba9456c-006a-416a-dd97-e32c496a37ff",
        "colab": {
          "base_uri": "https://localhost:8080/"
        }
      },
      "outputs": [
        {
          "output_type": "execute_result",
          "data": {
            "text/plain": [
              "{'input_ids': [101, 7592, 1010, 2023, 2003, 2028, 6251, 999, 102], 'attention_mask': [1, 1, 1, 1, 1, 1, 1, 1, 1]}"
            ]
          },
          "metadata": {},
          "execution_count": 14
        }
      ],
      "source": [
        "tokenizer(\"Hello, this is one sentence!\")"
      ]
    },
    {
      "cell_type": "markdown",
      "metadata": {
        "id": "Xy5PnFiLXqxt"
      },
      "source": [
        "Depending on the model you selected, you will see different keys in the dictionary returned by the cell above. They don't matter much for what we're doing here (just know they are required by the model we will instantiate later), you can learn more about them in [this tutorial](https://huggingface.co/transformers/preprocessing.html) if you're interested.\n",
        "\n",
        "If, as is the case here, your inputs have already been split into words, you should pass the list of words to your tokenzier with the argument `is_split_into_words=True`:"
      ]
    },
    {
      "cell_type": "code",
      "execution_count": 15,
      "metadata": {
        "colab": {
          "base_uri": "https://localhost:8080/"
        },
        "id": "4OwT_2rSXqxt",
        "outputId": "ec0b094f-8513-4738-e3b2-6bd19f9286e7"
      },
      "outputs": [
        {
          "output_type": "execute_result",
          "data": {
            "text/plain": [
              "{'input_ids': [101, 7592, 1010, 2023, 2003, 2028, 6251, 3975, 2046, 2616, 1012, 102], 'attention_mask': [1, 1, 1, 1, 1, 1, 1, 1, 1, 1, 1, 1]}"
            ]
          },
          "metadata": {},
          "execution_count": 15
        }
      ],
      "source": [
        "tokenizer([\"Hello\", \",\", \"this\", \"is\", \"one\", \"sentence\", \"split\", \"into\", \"words\", \".\"], is_split_into_words=True)"
      ]
    },
    {
      "cell_type": "markdown",
      "metadata": {
        "id": "UDyozKovXqxu"
      },
      "source": [
        "Note that transformers are often pretrained with subword tokenizers, meaning that even if your inputs have been split into words already, each of those words could be split again by the tokenizer. Let's look at an example of that:"
      ]
    },
    {
      "cell_type": "code",
      "execution_count": 16,
      "metadata": {
        "colab": {
          "base_uri": "https://localhost:8080/"
        },
        "id": "nYZqqh9DXqxu",
        "outputId": "1bafe16a-359f-4785-9cd4-235998dd4833"
      },
      "outputs": [
        {
          "output_type": "stream",
          "name": "stdout",
          "text": [
            "['INSERT', 'INTO', '\"', 'summer', '\"', '(', '\"', 'persistedFaceId', ',', 'largePersonGroupId', ',', 'middle', '-', 'name', ',', 'personId', '\"', ')', 'VALUES', '(', \"'\", ',', 'eYB', ',', 'Tina', ',', \"'\", ')']\n"
          ]
        }
      ],
      "source": [
        "example = datasets[\"train\"][4]\n",
        "print(example[\"tokens\"])"
      ]
    },
    {
      "cell_type": "code",
      "execution_count": 17,
      "metadata": {
        "colab": {
          "base_uri": "https://localhost:8080/"
        },
        "id": "tSUJWnj2Xqxu",
        "outputId": "ceaa6886-5046-4113-df9a-5f6e0c91ae6f"
      },
      "outputs": [
        {
          "output_type": "stream",
          "name": "stdout",
          "text": [
            "['[CLS]', 'insert', 'into', '\"', 'summer', '\"', '(', '\"', 'persisted', '##face', '##id', ',', 'large', '##person', '##group', '##id', ',', 'middle', '-', 'name', ',', 'person', '##id', '\"', ')', 'values', '(', \"'\", ',', 'e', '##y', '##b', ',', 'tina', ',', \"'\", ')', '[SEP]']\n"
          ]
        }
      ],
      "source": [
        "tokenized_input = tokenizer(example[\"tokens\"], is_split_into_words=True)\n",
        "tokens = tokenizer.convert_ids_to_tokens(tokenized_input[\"input_ids\"])\n",
        "print(tokens)"
      ]
    },
    {
      "cell_type": "markdown",
      "metadata": {
        "id": "nXHEF97HXqxu"
      },
      "source": [
        "Here the words \"Zwingmann\" and \"sheepmeat\" have been split in three subtokens.\n",
        "\n",
        "This means that we need to do some processing on our labels as the input ids returned by the tokenizer are longer than the lists of labels our dataset contain, first because some special tokens might be added (we can a `[CLS]` and a `[SEP]` above) and then because of those possible splits of words in multiple tokens:"
      ]
    },
    {
      "cell_type": "code",
      "execution_count": 18,
      "metadata": {
        "colab": {
          "base_uri": "https://localhost:8080/"
        },
        "id": "EaHud_tzXqxv",
        "outputId": "fadb2946-c222-4563-941e-f973a7df90aa"
      },
      "outputs": [
        {
          "output_type": "execute_result",
          "data": {
            "text/plain": [
              "(28, 38)"
            ]
          },
          "metadata": {},
          "execution_count": 18
        }
      ],
      "source": [
        "len(example[f\"tags\"]), len(tokenized_input[\"input_ids\"])"
      ]
    },
    {
      "cell_type": "markdown",
      "metadata": {
        "id": "26NHHucRXqxv"
      },
      "source": [
        "Thankfully, the tokenizer returns outputs that have a `word_ids` method which can help us."
      ]
    },
    {
      "cell_type": "code",
      "execution_count": 19,
      "metadata": {
        "colab": {
          "base_uri": "https://localhost:8080/"
        },
        "id": "BV0eynMXXqxv",
        "outputId": "edcbf9a8-d7fb-4070-9951-bba0cfd0892f"
      },
      "outputs": [
        {
          "output_type": "stream",
          "name": "stdout",
          "text": [
            "[None, 0, 1, 2, 3, 4, 5, 6, 7, 7, 7, 8, 9, 9, 9, 9, 10, 11, 12, 13, 14, 15, 15, 16, 17, 18, 19, 20, 21, 22, 22, 22, 23, 24, 25, 26, 27, None]\n"
          ]
        }
      ],
      "source": [
        "print(tokenized_input.word_ids())"
      ]
    },
    {
      "cell_type": "markdown",
      "metadata": {
        "id": "9aKiU3pnXqxv"
      },
      "source": [
        "As we can see, it returns a list with the same number of elements as our processed input ids, mapping special tokens to `None` and all other tokens to their respective word. This way, we can align the labels with the processed input ids."
      ]
    },
    {
      "cell_type": "code",
      "execution_count": 20,
      "metadata": {
        "colab": {
          "base_uri": "https://localhost:8080/"
        },
        "id": "iqriUn38Xqxv",
        "outputId": "481b3773-ad7f-42af-a27a-d42ad0012eab"
      },
      "outputs": [
        {
          "output_type": "stream",
          "name": "stdout",
          "text": [
            "38 38\n"
          ]
        }
      ],
      "source": [
        "word_ids = tokenized_input.word_ids()\n",
        "aligned_labels = [-100 if i is None else example[f\"tags\"][i] for i in word_ids]\n",
        "print(len(aligned_labels), len(tokenized_input[\"input_ids\"]))"
      ]
    },
    {
      "cell_type": "markdown",
      "metadata": {
        "id": "gW_lP8vMXqxv"
      },
      "source": [
        "Here we set the labels of all special tokens to -100 (the index that is ignored by PyTorch) and the labels of all other tokens to the label of the word they come from. Another strategy is to set the label only on the first token obtained from a given word, and give a label of -100 to the other subtokens from the same word. We propose the two strategies here, just change the value of the following flag:"
      ]
    },
    {
      "cell_type": "code",
      "execution_count": 21,
      "metadata": {
        "id": "ZTao4dm3Xqxv"
      },
      "outputs": [],
      "source": [
        "label_all_tokens = True"
      ]
    },
    {
      "cell_type": "markdown",
      "metadata": {
        "id": "2C0hcmp9IrJQ"
      },
      "source": [
        "We're now ready to write the function that will preprocess our samples. We feed them to the `tokenizer` with the argument `truncation=True` (to truncate texts that are bigger than the maximum size allowed by the model) and `is_split_into_words=True` (as seen above). Then we align the labels with the token ids using the strategy we picked:"
      ]
    },
    {
      "cell_type": "code",
      "execution_count": 22,
      "metadata": {
        "id": "vc0BSBLIIrJQ"
      },
      "outputs": [],
      "source": [
        "def tokenize_and_align_labels(examples):\n",
        "    tokenized_inputs = tokenizer(examples[\"tokens\"], truncation=True, is_split_into_words=True)\n",
        "\n",
        "    labels = []\n",
        "    for i, label in enumerate(examples[f\"tags\"]):\n",
        "        word_ids = tokenized_inputs.word_ids(batch_index=i)\n",
        "        previous_word_idx = None\n",
        "        label_ids = []\n",
        "        for word_idx in word_ids:\n",
        "            # Special tokens have a word id that is None. We set the label to -100 so they are automatically\n",
        "            # ignored in the loss function.\n",
        "            if word_idx is None:\n",
        "                label_ids.append(-100)\n",
        "            # We set the label for the first token of each word.\n",
        "            elif word_idx != previous_word_idx:\n",
        "                label_ids.append(label[word_idx])\n",
        "            # For the other tokens in a word, we set the label to either the current label or -100, depending on\n",
        "            # the label_all_tokens flag.\n",
        "            else:\n",
        "                label_ids.append(label[word_idx] if label_all_tokens else -100)\n",
        "            previous_word_idx = word_idx\n",
        "\n",
        "        labels.append(label_ids)\n",
        "\n",
        "    tokenized_inputs[\"labels\"] = labels\n",
        "    return tokenized_inputs"
      ]
    },
    {
      "cell_type": "markdown",
      "metadata": {
        "id": "0lm8ozrJIrJR"
      },
      "source": [
        "This function works with one or several examples. In the case of several examples, the tokenizer will return a list of lists for each key:"
      ]
    },
    {
      "cell_type": "code",
      "execution_count": 23,
      "metadata": {
        "id": "-b70jh26IrJS",
        "outputId": "a1aadfc3-b968-4d71-a2ca-de25eddd9952",
        "colab": {
          "base_uri": "https://localhost:8080/"
        }
      },
      "outputs": [
        {
          "output_type": "execute_result",
          "data": {
            "text/plain": [
              "{'input_ids': [[101, 1038, 1005, 1026, 1029, 20950, 2544, 1027, 1000, 1015, 1012, 1014, 1000, 17181, 1027, 1000, 21183, 2546, 1011, 1022, 1000, 1029, 1028, 1026, 7117, 1028, 1026, 4171, 1011, 8909, 2828, 1027, 1000, 2358, 2099, 1000, 1028, 5585, 22610, 23632, 2581, 2575, 2509, 1026, 1013, 4171, 1011, 8909, 1028, 1026, 10373, 1035, 4769, 2828, 1027, 1000, 2358, 2099, 1000, 1028, 14673, 6169, 7507, 12494, 1030, 3565, 28414, 1012, 4012, 1026, 1013, 10373, 1035, 4769, 1028, 1026, 17928, 1011, 2544, 2828, 1027, 1000, 2358, 2099, 1000, 1028, 1026, 1013, 17928, 1011, 2544, 1028, 1026, 3677, 1035, 1035, 2171, 2828, 1027, 1000, 2358, 2099, 1000, 1028, 16770, 1024, 1013, 1013, 7479, 1012, 4597, 4801, 23743, 15465, 1012, 4012, 1013, 1026, 1013, 3677, 1035, 1035, 2171, 1028, 1026, 1013, 7117, 1028, 1005, 102], [101, 7276, 1000, 3194, 27774, 1000, 1010, 1000, 3194, 27774, 1000, 1010, 2553, 2043, 1000, 3194, 27774, 1000, 1027, 1005, 1052, 2629, 15185, 3501, 6593, 1005, 2059, 1005, 2129, 1005, 2203, 2013, 1000, 3232, 1000, 2177, 2011, 1000, 3194, 27774, 1000, 2383, 2358, 2094, 1006, 1005, 3194, 27774, 1005, 1007, 1026, 1027, 4261, 16932, 2344, 2011, 1000, 3194, 27774, 1000, 5787, 6535, 102], [101, 1063, 1000, 7692, 17058, 18442, 1000, 1024, 1000, 2019, 2278, 1000, 1010, 1000, 15002, 3593, 1000, 1024, 1000, 1043, 3501, 2629, 2015, 3490, 2100, 1000, 1010, 1000, 19204, 18442, 1000, 1024, 1000, 1000, 1010, 1000, 13258, 10841, 14343, 9407, 1000, 1024, 1000, 18411, 2078, 1000, 1010, 1000, 15584, 18442, 1000, 1024, 1000, 1000, 1065, 102], [101, 1063, 1000, 13258, 1035, 1035, 9598, 1000, 1024, 1000, 18168, 2099, 1000, 1010, 1000, 17961, 18442, 1000, 1024, 1000, 1050, 28210, 2232, 2595, 2080, 1055, 1000, 1010, 1000, 17961, 10175, 5657, 1000, 1024, 1000, 1000, 1010, 1000, 4654, 16781, 1035, 1035, 3058, 1000, 1024, 1000, 1018, 1013, 16798, 2549, 1000, 1010, 1000, 2895, 1000, 1024, 1000, 1062, 7317, 13535, 1062, 7317, 13535, 1000, 1010, 1000, 21307, 2319, 1000, 1024, 1000, 16351, 23777, 11890, 15992, 24434, 17465, 2683, 16932, 2581, 12740, 2620, 2581, 2581, 2620, 1000, 1010, 1000, 2137, 1011, 4671, 1000, 1024, 1000, 23785, 2575, 23352, 23352, 19481, 16576, 21472, 2620, 1000, 1010, 1000, 8476, 2906, 2078, 1000, 1024, 1000, 4429, 2063, 4160, 29068, 23644, 2361, 4429, 2063, 4160, 29068, 23644, 2361, 1000, 1010, 1000, 4182, 29100, 1000, 1024, 1000, 3106, 1000, 1010, 1000, 9170, 16044, 1000, 1024, 1000, 1058, 2078, 12274, 18259, 8197, 2683, 10288, 1000, 1010, 1000, 2544, 1000, 1024, 1000, 10189, 13340, 2100, 2860, 2480, 2099, 1000, 1065, 102], [101, 19274, 2046, 1000, 2621, 1000, 1006, 1000, 19035, 12172, 3593, 1010, 2312, 27576, 17058, 3593, 1010, 2690, 1011, 2171, 1010, 2711, 3593, 1000, 1007, 5300, 1006, 1005, 1010, 1041, 2100, 2497, 1010, 11958, 1010, 1005, 1007, 102]], 'attention_mask': [[1, 1, 1, 1, 1, 1, 1, 1, 1, 1, 1, 1, 1, 1, 1, 1, 1, 1, 1, 1, 1, 1, 1, 1, 1, 1, 1, 1, 1, 1, 1, 1, 1, 1, 1, 1, 1, 1, 1, 1, 1, 1, 1, 1, 1, 1, 1, 1, 1, 1, 1, 1, 1, 1, 1, 1, 1, 1, 1, 1, 1, 1, 1, 1, 1, 1, 1, 1, 1, 1, 1, 1, 1, 1, 1, 1, 1, 1, 1, 1, 1, 1, 1, 1, 1, 1, 1, 1, 1, 1, 1, 1, 1, 1, 1, 1, 1, 1, 1, 1, 1, 1, 1, 1, 1, 1, 1, 1, 1, 1, 1, 1, 1, 1, 1, 1, 1, 1, 1, 1, 1, 1, 1, 1, 1, 1, 1, 1, 1, 1], [1, 1, 1, 1, 1, 1, 1, 1, 1, 1, 1, 1, 1, 1, 1, 1, 1, 1, 1, 1, 1, 1, 1, 1, 1, 1, 1, 1, 1, 1, 1, 1, 1, 1, 1, 1, 1, 1, 1, 1, 1, 1, 1, 1, 1, 1, 1, 1, 1, 1, 1, 1, 1, 1, 1, 1, 1, 1, 1, 1, 1, 1, 1], [1, 1, 1, 1, 1, 1, 1, 1, 1, 1, 1, 1, 1, 1, 1, 1, 1, 1, 1, 1, 1, 1, 1, 1, 1, 1, 1, 1, 1, 1, 1, 1, 1, 1, 1, 1, 1, 1, 1, 1, 1, 1, 1, 1, 1, 1, 1, 1, 1, 1, 1, 1, 1, 1, 1, 1], [1, 1, 1, 1, 1, 1, 1, 1, 1, 1, 1, 1, 1, 1, 1, 1, 1, 1, 1, 1, 1, 1, 1, 1, 1, 1, 1, 1, 1, 1, 1, 1, 1, 1, 1, 1, 1, 1, 1, 1, 1, 1, 1, 1, 1, 1, 1, 1, 1, 1, 1, 1, 1, 1, 1, 1, 1, 1, 1, 1, 1, 1, 1, 1, 1, 1, 1, 1, 1, 1, 1, 1, 1, 1, 1, 1, 1, 1, 1, 1, 1, 1, 1, 1, 1, 1, 1, 1, 1, 1, 1, 1, 1, 1, 1, 1, 1, 1, 1, 1, 1, 1, 1, 1, 1, 1, 1, 1, 1, 1, 1, 1, 1, 1, 1, 1, 1, 1, 1, 1, 1, 1, 1, 1, 1, 1, 1, 1, 1, 1, 1, 1, 1, 1, 1, 1, 1, 1, 1, 1, 1, 1, 1, 1, 1, 1, 1, 1, 1, 1, 1, 1, 1, 1, 1, 1, 1, 1, 1, 1, 1, 1, 1], [1, 1, 1, 1, 1, 1, 1, 1, 1, 1, 1, 1, 1, 1, 1, 1, 1, 1, 1, 1, 1, 1, 1, 1, 1, 1, 1, 1, 1, 1, 1, 1, 1, 1, 1, 1, 1, 1]], 'labels': [[-100, 0, 0, 0, 0, 0, 0, 0, 0, 0, 0, 0, 0, 0, 0, 0, 0, 0, 0, 0, 0, 0, 0, 0, 0, 0, 0, 0, 0, 0, 0, 0, 0, 0, 0, 0, 0, 68, 68, 68, 68, 68, 68, 0, 0, 0, 0, 0, 0, 0, 0, 0, 0, 0, 0, 0, 0, 0, 0, 0, 4, 4, 4, 4, 4, 4, 4, 4, 4, 0, 0, 0, 0, 0, 0, 0, 0, 0, 0, 0, 0, 0, 0, 0, 0, 1, 3, 0, 0, 0, 0, 0, 0, 0, 0, 0, 0, 0, 0, 0, 0, 0, 0, 0, 4, 4, 4, 4, 4, 4, 4, 4, 4, 4, 4, 4, 4, 0, 0, 0, 0, 0, 0, 0, 0, 0, 0, 0, 0, -100], [-100, 0, 0, 0, 0, 0, 0, 0, 0, 0, 0, 0, 0, 0, 0, 0, 0, 0, 0, 0, 4, 4, 4, 4, 4, 0, 0, 0, 0, 0, 0, 0, 0, 0, 0, 0, 0, 0, 0, 0, 0, 0, 0, 0, 0, 0, 0, 0, 0, 0, 0, 0, 0, 0, 0, 0, 0, 0, 0, 0, 0, 0, -100], [-100, 0, 0, 0, 0, 0, 0, 0, 0, 4, 4, 0, 0, 0, 0, 0, 0, 0, 0, 4, 4, 4, 4, 4, 4, 0, 0, 0, 0, 0, 0, 0, 1, 3, 0, 0, 0, 0, 0, 0, 0, 0, 0, 100, 100, 0, 0, 0, 0, 0, 0, 0, 1, 3, 0, -100], [-100, 0, 0, 0, 0, 0, 0, 0, 0, 0, 100, 100, 0, 0, 0, 0, 0, 0, 0, 0, 1, 1, 1, 1, 1, 3, 0, 0, 0, 0, 0, 0, 0, 0, 1, 3, 0, 0, 0, 0, 0, 0, 0, 0, 0, 0, 24, 24, 24, 24, 0, 0, 0, 0, 0, 0, 0, 1, 1, 1, 3, 3, 3, 0, 0, 0, 0, 0, 0, 0, 0, 4, 4, 4, 4, 4, 4, 4, 4, 4, 4, 4, 4, 4, 4, 0, 0, 0, 0, 0, 0, 0, 0, 0, 28, 28, 28, 28, 28, 28, 28, 28, 0, 0, 0, 0, 0, 0, 0, 0, 0, 1, 1, 1, 1, 1, 1, 3, 3, 3, 3, 3, 3, 0, 0, 0, 0, 0, 0, 0, 0, 24, 0, 0, 0, 0, 0, 0, 0, 0, 100, 100, 100, 100, 100, 100, 100, 0, 0, 0, 0, 0, 0, 0, 4, 4, 4, 4, 4, 4, 0, 0, -100], [-100, 0, 0, 0, 0, 0, 0, 0, 0, 0, 0, 0, 0, 0, 0, 0, 0, 0, 0, 0, 0, 0, 0, 0, 0, 0, 0, 1, 2, 3, 3, 3, 0, 8, 1, 3, 0, -100]]}"
            ]
          },
          "metadata": {},
          "execution_count": 23
        }
      ],
      "source": [
        "tokenize_and_align_labels(datasets['train'][:5])"
      ]
    },
    {
      "cell_type": "markdown",
      "metadata": {
        "id": "zS-6iXTkIrJT"
      },
      "source": [
        "To apply this function on all the sentences (or pairs of sentences) in our dataset, we just use the `map` method of our `dataset` object we created earlier. This will apply the function on all the elements of all the splits in `dataset`, so our training, validation and testing data will be preprocessed in one single command."
      ]
    },
    {
      "cell_type": "code",
      "execution_count": 24,
      "metadata": {
        "id": "DDtsaJeVIrJT",
        "outputId": "4b4fe1d8-4e49-4cc1-9fb9-69d292bd913a",
        "colab": {
          "base_uri": "https://localhost:8080/"
        }
      },
      "outputs": [
        {
          "output_type": "stream",
          "name": "stderr",
          "text": [
            "WARNING:datasets.arrow_dataset:Loading cached processed dataset at /root/.cache/huggingface/datasets/beki___privy/small/1.0.0/3cab103dadb9e5d1e6dcd8f4111f6c58b4bf837f404966c462bcf64fcffd9532/cache-95fdd9a16ffa2fc4.arrow\n",
            "WARNING:datasets.arrow_dataset:Loading cached processed dataset at /root/.cache/huggingface/datasets/beki___privy/small/1.0.0/3cab103dadb9e5d1e6dcd8f4111f6c58b4bf837f404966c462bcf64fcffd9532/cache-8052871a06ce5264.arrow\n",
            "WARNING:datasets.arrow_dataset:Loading cached processed dataset at /root/.cache/huggingface/datasets/beki___privy/small/1.0.0/3cab103dadb9e5d1e6dcd8f4111f6c58b4bf837f404966c462bcf64fcffd9532/cache-1fb92e3a0ad737d5.arrow\n"
          ]
        }
      ],
      "source": [
        "tokenized_datasets = datasets.map(tokenize_and_align_labels, batched=True)"
      ]
    },
    {
      "cell_type": "markdown",
      "metadata": {
        "id": "voWiw8C7IrJV"
      },
      "source": [
        "Even better, the results are automatically cached by the 🤗 Datasets library to avoid spending time on this step the next time you run your notebook. The 🤗 Datasets library is normally smart enough to detect when the function you pass to map has changed (and thus requires to not use the cache data). For instance, it will properly detect if you change the task in the first cell and rerun the notebook. 🤗 Datasets warns you when it uses cached files, you can pass `load_from_cache_file=False` in the call to `map` to not use the cached files and force the preprocessing to be applied again.\n",
        "\n",
        "Note that we passed `batched=True` to encode the texts by batches together. This is to leverage the full benefit of the fast tokenizer we loaded earlier, which will use multi-threading to treat the texts in a batch concurrently."
      ]
    },
    {
      "cell_type": "markdown",
      "metadata": {
        "id": "545PP3o8IrJV"
      },
      "source": [
        "## Fine-tuning the model"
      ]
    },
    {
      "cell_type": "markdown",
      "metadata": {
        "id": "FBiW8UpKIrJW"
      },
      "source": [
        "Now that our data is ready, we can download the pretrained model and fine-tune it. Since all our tasks are about token classification, we use the `AutoModelForTokenClassification` class. Like with the tokenizer, the `from_pretrained` method will download and cache the model for us. The only thing we have to specify is the number of labels for our problem (which we can get from the features, as seen before):"
      ]
    },
    {
      "cell_type": "code",
      "execution_count": 25,
      "metadata": {
        "id": "TlqNaB8jIrJW",
        "outputId": "72d84133-446e-41f4-8322-b45f2551fd0c",
        "colab": {
          "base_uri": "https://localhost:8080/"
        }
      },
      "outputs": [
        {
          "output_type": "stream",
          "name": "stderr",
          "text": [
            "Some weights of the model checkpoint at distilbert-base-uncased were not used when initializing DistilBertForTokenClassification: ['vocab_transform.bias', 'vocab_layer_norm.bias', 'vocab_layer_norm.weight', 'vocab_transform.weight', 'vocab_projector.bias']\n",
            "- This IS expected if you are initializing DistilBertForTokenClassification from the checkpoint of a model trained on another task or with another architecture (e.g. initializing a BertForSequenceClassification model from a BertForPreTraining model).\n",
            "- This IS NOT expected if you are initializing DistilBertForTokenClassification from the checkpoint of a model that you expect to be exactly identical (initializing a BertForSequenceClassification model from a BertForSequenceClassification model).\n",
            "Some weights of DistilBertForTokenClassification were not initialized from the model checkpoint at distilbert-base-uncased and are newly initialized: ['classifier.weight', 'classifier.bias']\n",
            "You should probably TRAIN this model on a down-stream task to be able to use it for predictions and inference.\n"
          ]
        }
      ],
      "source": [
        "from transformers import AutoModelForTokenClassification, TrainingArguments, Trainer\n",
        "\n",
        "model = AutoModelForTokenClassification.from_pretrained(model_checkpoint, num_labels=len(label_list))"
      ]
    },
    {
      "cell_type": "markdown",
      "metadata": {
        "id": "CczA5lJlIrJX"
      },
      "source": [
        "The warning is telling us we are throwing away some weights (the `vocab_transform` and `vocab_layer_norm` layers) and randomly initializing some other (the `pre_classifier` and `classifier` layers). This is absolutely normal in this case, because we are removing the head used to pretrain the model on a masked language modeling objective and replacing it with a new head for which we don't have pretrained weights, so the library warns us we should fine-tune this model before using it for inference, which is exactly what we are going to do."
      ]
    },
    {
      "cell_type": "markdown",
      "metadata": {
        "id": "_N8urzhyIrJY"
      },
      "source": [
        "To instantiate a `Trainer`, we will need to define three more things. The most important is the [`TrainingArguments`](https://huggingface.co/transformers/main_classes/trainer.html#transformers.TrainingArguments), which is a class that contains all the attributes to customize the training. It requires one folder name, which will be used to save the checkpoints of the model, and all other arguments are optional:"
      ]
    },
    {
      "cell_type": "code",
      "source": [
        "!pip install transformers[torch]"
      ],
      "metadata": {
        "colab": {
          "base_uri": "https://localhost:8080/"
        },
        "id": "0qMdx_akvDKP",
        "outputId": "3d0b4dbf-d22f-410c-db83-f81cbc5229db"
      },
      "execution_count": 26,
      "outputs": [
        {
          "output_type": "stream",
          "name": "stdout",
          "text": [
            "Requirement already satisfied: transformers[torch] in /usr/local/lib/python3.10/dist-packages (4.30.2)\n",
            "Requirement already satisfied: filelock in /usr/local/lib/python3.10/dist-packages (from transformers[torch]) (3.12.2)\n",
            "Requirement already satisfied: huggingface-hub<1.0,>=0.14.1 in /usr/local/lib/python3.10/dist-packages (from transformers[torch]) (0.16.2)\n",
            "Requirement already satisfied: numpy>=1.17 in /usr/local/lib/python3.10/dist-packages (from transformers[torch]) (1.22.4)\n",
            "Requirement already satisfied: packaging>=20.0 in /usr/local/lib/python3.10/dist-packages (from transformers[torch]) (23.1)\n",
            "Requirement already satisfied: pyyaml>=5.1 in /usr/local/lib/python3.10/dist-packages (from transformers[torch]) (6.0)\n",
            "Requirement already satisfied: regex!=2019.12.17 in /usr/local/lib/python3.10/dist-packages (from transformers[torch]) (2022.10.31)\n",
            "Requirement already satisfied: requests in /usr/local/lib/python3.10/dist-packages (from transformers[torch]) (2.27.1)\n",
            "Requirement already satisfied: tokenizers!=0.11.3,<0.14,>=0.11.1 in /usr/local/lib/python3.10/dist-packages (from transformers[torch]) (0.13.3)\n",
            "Requirement already satisfied: safetensors>=0.3.1 in /usr/local/lib/python3.10/dist-packages (from transformers[torch]) (0.3.1)\n",
            "Requirement already satisfied: tqdm>=4.27 in /usr/local/lib/python3.10/dist-packages (from transformers[torch]) (4.65.0)\n",
            "Requirement already satisfied: torch!=1.12.0,>=1.9 in /usr/local/lib/python3.10/dist-packages (from transformers[torch]) (2.0.1+cu118)\n",
            "Requirement already satisfied: accelerate>=0.20.2 in /usr/local/lib/python3.10/dist-packages (from transformers[torch]) (0.20.3)\n",
            "Requirement already satisfied: psutil in /usr/local/lib/python3.10/dist-packages (from accelerate>=0.20.2->transformers[torch]) (5.9.5)\n",
            "Requirement already satisfied: fsspec in /usr/local/lib/python3.10/dist-packages (from huggingface-hub<1.0,>=0.14.1->transformers[torch]) (2023.6.0)\n",
            "Requirement already satisfied: typing-extensions>=3.7.4.3 in /usr/local/lib/python3.10/dist-packages (from huggingface-hub<1.0,>=0.14.1->transformers[torch]) (4.6.3)\n",
            "Requirement already satisfied: sympy in /usr/local/lib/python3.10/dist-packages (from torch!=1.12.0,>=1.9->transformers[torch]) (1.11.1)\n",
            "Requirement already satisfied: networkx in /usr/local/lib/python3.10/dist-packages (from torch!=1.12.0,>=1.9->transformers[torch]) (3.1)\n",
            "Requirement already satisfied: jinja2 in /usr/local/lib/python3.10/dist-packages (from torch!=1.12.0,>=1.9->transformers[torch]) (3.1.2)\n",
            "Requirement already satisfied: triton==2.0.0 in /usr/local/lib/python3.10/dist-packages (from torch!=1.12.0,>=1.9->transformers[torch]) (2.0.0)\n",
            "Requirement already satisfied: cmake in /usr/local/lib/python3.10/dist-packages (from triton==2.0.0->torch!=1.12.0,>=1.9->transformers[torch]) (3.25.2)\n",
            "Requirement already satisfied: lit in /usr/local/lib/python3.10/dist-packages (from triton==2.0.0->torch!=1.12.0,>=1.9->transformers[torch]) (16.0.6)\n",
            "Requirement already satisfied: urllib3<1.27,>=1.21.1 in /usr/local/lib/python3.10/dist-packages (from requests->transformers[torch]) (1.26.16)\n",
            "Requirement already satisfied: certifi>=2017.4.17 in /usr/local/lib/python3.10/dist-packages (from requests->transformers[torch]) (2023.5.7)\n",
            "Requirement already satisfied: charset-normalizer~=2.0.0 in /usr/local/lib/python3.10/dist-packages (from requests->transformers[torch]) (2.0.12)\n",
            "Requirement already satisfied: idna<4,>=2.5 in /usr/local/lib/python3.10/dist-packages (from requests->transformers[torch]) (3.4)\n",
            "Requirement already satisfied: MarkupSafe>=2.0 in /usr/local/lib/python3.10/dist-packages (from jinja2->torch!=1.12.0,>=1.9->transformers[torch]) (2.1.3)\n",
            "Requirement already satisfied: mpmath>=0.19 in /usr/local/lib/python3.10/dist-packages (from sympy->torch!=1.12.0,>=1.9->transformers[torch]) (1.3.0)\n"
          ]
        }
      ]
    },
    {
      "cell_type": "code",
      "execution_count": 27,
      "metadata": {
        "id": "Bliy8zgjIrJY"
      },
      "outputs": [],
      "source": [
        "model_name = model_checkpoint.split(\"/\")[-1]\n",
        "args = TrainingArguments(\n",
        "    f\"{model_name}-finetuned-{task}\",\n",
        "    evaluation_strategy = \"epoch\",\n",
        "    learning_rate=2e-5,\n",
        "    per_device_train_batch_size=batch_size,\n",
        "    per_device_eval_batch_size=batch_size,\n",
        "    num_train_epochs=3,\n",
        "    weight_decay=0.01,\n",
        "    push_to_hub=True,\n",
        ")"
      ]
    },
    {
      "cell_type": "markdown",
      "metadata": {
        "id": "km3pGVdTIrJc"
      },
      "source": [
        "Here we set the evaluation to be done at the end of each epoch, tweak the learning rate, use the `batch_size` defined at the top of the notebook and customize the number of epochs for training, as well as the weight decay.\n",
        "\n",
        "The last argument to setup everything so we can push the model to the [Hub](https://huggingface.co/models) regularly during training. Remove it if you didn't follow the installation steps at the top of the notebook. If you want to save your model locally in a name that is different than the name of the repository it will be pushed, or if you want to push your model under an organization and not your name space, use the `hub_model_id` argument to set the repo name (it needs to be the full name, including your namespace: for instance `\"sgugger/bert-finetuned-ner\"` or `\"huggingface/bert-finetuned-ner\"`)."
      ]
    },
    {
      "cell_type": "markdown",
      "metadata": {
        "id": "AgHGGPLSXqxx"
      },
      "source": [
        "Then we will need a data collator that will batch our processed examples together while applying padding to make them all the same size (each pad will be padded to the length of its longest example). There is a data collator for this task in the Transformers library, that not only pads the inputs, but also the labels:"
      ]
    },
    {
      "cell_type": "code",
      "execution_count": 28,
      "metadata": {
        "id": "QaX5Q0SCXqxx"
      },
      "outputs": [],
      "source": [
        "from transformers import DataCollatorForTokenClassification\n",
        "\n",
        "data_collator = DataCollatorForTokenClassification(tokenizer)"
      ]
    },
    {
      "cell_type": "markdown",
      "metadata": {
        "id": "7b7UaZnyXqxx"
      },
      "source": [
        "The last thing to define for our `Trainer` is how to compute the metrics from the predictions. Here we will load the [`seqeval`](https://github.com/chakki-works/seqeval) metric (which is commonly used to evaluate results on the CONLL dataset) via the Datasets library."
      ]
    },
    {
      "cell_type": "code",
      "execution_count": 29,
      "metadata": {
        "colab": {
          "base_uri": "https://localhost:8080/",
          "height": 103,
          "referenced_widgets": [
            "2aabe1618c9246ff9c8f101a628a7c4e",
            "6e8cdf14070f4a349ae39b4f13cea4c5",
            "d21417d6ca074e458ee51c39e9420dd8",
            "b50de50c4f72403a8f14478f46812d84",
            "390a9795d45240288ddc975d29cfb02a",
            "f2b85ae1784e48688fc29df8a45e0694",
            "b39756777a194452b4c0f07931c89f9c",
            "da0b926aa780465fa6216809a93fa1b3",
            "ec5fa695016c46ac8336e0b223932e01",
            "21c40f694d064069ae7ade40c9500bbd",
            "a9fe807eaf764490aa6fdf52ed514c36"
          ]
        },
        "id": "iwcOGK7UXqxx",
        "outputId": "86763d36-8711-4812-97a8-a31f2f2d7fac"
      },
      "outputs": [
        {
          "output_type": "stream",
          "name": "stderr",
          "text": [
            "<ipython-input-29-e20ba34f8cc7>:1: FutureWarning: load_metric is deprecated and will be removed in the next major version of datasets. Use 'evaluate.load' instead, from the new library 🤗 Evaluate: https://huggingface.co/docs/evaluate\n",
            "  metric = load_metric(\"seqeval\")\n"
          ]
        },
        {
          "output_type": "display_data",
          "data": {
            "text/plain": [
              "Downloading builder script:   0%|          | 0.00/2.47k [00:00<?, ?B/s]"
            ],
            "application/vnd.jupyter.widget-view+json": {
              "version_major": 2,
              "version_minor": 0,
              "model_id": "2aabe1618c9246ff9c8f101a628a7c4e"
            }
          },
          "metadata": {}
        }
      ],
      "source": [
        "metric = load_metric(\"seqeval\")"
      ]
    },
    {
      "cell_type": "markdown",
      "metadata": {
        "id": "R20jD3FEXqxx"
      },
      "source": [
        "This metric takes list of labels for the predictions and references:"
      ]
    },
    {
      "cell_type": "code",
      "execution_count": 30,
      "metadata": {
        "colab": {
          "base_uri": "https://localhost:8080/"
        },
        "id": "WLNW4k_UXqxx",
        "outputId": "26287768-1d0c-4893-b84a-95b897c38474"
      },
      "outputs": [
        {
          "output_type": "stream",
          "name": "stderr",
          "text": [
            "/usr/local/lib/python3.10/dist-packages/seqeval/metrics/sequence_labeling.py:171: UserWarning: L-O seems not to be NE tag.\n",
            "  warnings.warn('{} seems not to be NE tag.'.format(chunk))\n",
            "/usr/local/lib/python3.10/dist-packages/seqeval/metrics/sequence_labeling.py:171: UserWarning: U-PER seems not to be NE tag.\n",
            "  warnings.warn('{} seems not to be NE tag.'.format(chunk))\n"
          ]
        },
        {
          "output_type": "execute_result",
          "data": {
            "text/plain": [
              "{'O': {'precision': 1.0, 'recall': 1.0, 'f1': 1.0, 'number': 2},\n",
              " 'PER': {'precision': 1.0, 'recall': 1.0, 'f1': 1.0, 'number': 1},\n",
              " 'overall_precision': 1.0,\n",
              " 'overall_recall': 1.0,\n",
              " 'overall_f1': 1.0,\n",
              " 'overall_accuracy': 1.0}"
            ]
          },
          "metadata": {},
          "execution_count": 30
        }
      ],
      "source": [
        "labels = [label_list[i] for i in example[f\"tags\"]]\n",
        "metric.compute(predictions=[labels], references=[labels])"
      ]
    },
    {
      "cell_type": "markdown",
      "metadata": {
        "id": "7sZOdRlRIrJd"
      },
      "source": [
        "So we will need to do a bit of post-processing on our predictions:\n",
        "- select the predicted index (with the maximum logit) for each token\n",
        "- convert it to its string label\n",
        "- ignore everywhere we set a label of -100\n",
        "\n",
        "The following function does all this post-processing on the result of `Trainer.evaluate` (which is a namedtuple containing predictions and labels) before applying the metric:"
      ]
    },
    {
      "cell_type": "code",
      "execution_count": 31,
      "metadata": {
        "id": "UmvbnJ9JIrJd"
      },
      "outputs": [],
      "source": [
        "import numpy as np\n",
        "\n",
        "def compute_metrics(p):\n",
        "    predictions, labels = p\n",
        "    predictions = np.argmax(predictions, axis=2)\n",
        "\n",
        "    # Remove ignored index (special tokens)\n",
        "    true_predictions = [\n",
        "        [label_list[p] for (p, l) in zip(prediction, label) if l != -100]\n",
        "        for prediction, label in zip(predictions, labels)\n",
        "    ]\n",
        "    true_labels = [\n",
        "        [label_list[l] for (p, l) in zip(prediction, label) if l != -100]\n",
        "        for prediction, label in zip(predictions, labels)\n",
        "    ]\n",
        "\n",
        "    results = metric.compute(predictions=true_predictions, references=true_labels)\n",
        "    return {\n",
        "        \"precision\": results[\"overall_precision\"],\n",
        "        \"recall\": results[\"overall_recall\"],\n",
        "        \"f1\": results[\"overall_f1\"],\n",
        "        \"accuracy\": results[\"overall_accuracy\"],\n",
        "    }"
      ]
    },
    {
      "cell_type": "markdown",
      "metadata": {
        "id": "rXuFTAzDIrJe"
      },
      "source": [
        "Note that we drop the precision/recall/f1 computed for each category and only focus on the overall precision/recall/f1/accuracy.\n",
        "\n",
        "Then we just need to pass all of this along with our datasets to the `Trainer`:"
      ]
    },
    {
      "cell_type": "code",
      "source": [
        "!pip install huggingface_hub\n",
        "\n",
        "from huggingface_hub import notebook_login\n",
        "\n",
        "notebook_login()"
      ],
      "metadata": {
        "colab": {
          "base_uri": "https://localhost:8080/",
          "height": 145,
          "referenced_widgets": [
            "3d34379af865426ea667fe0739180246",
            "fbf79c89d247451e86c4ad6f45c85980",
            "a64277d03aa94aa2b0faaaa7c9325704",
            "f3e8e885079a40f0a613ce8556916eeb",
            "2df43aa5ad8f4b88ae5ecdd4e51a2e24",
            "4c67321e86c5440aa1dd29f2833381b7",
            "6e9f5d861bc64c08840c9f198650d8ed",
            "0352836200824f2db2e0aecb01bcbcbc",
            "440a38ceb7d14174a67487ddc85669f9",
            "f99e09c40a274a5888b093817b0eaf30",
            "f12ee0280655408cbe562f7c2a16a5fe",
            "c8616362cbec4fd9acf74400c37a43c1",
            "1db7067509984d1d9bbfc6e86fbe4cf1",
            "f671feda8d6a489b97ac0a9eb05bd231",
            "a4949dd5e5c44861b1b1e2e5c19692e0",
            "be411cb584324d969947215376844fd5",
            "4dbe9406495248eb964788157a7179ba",
            "eb879c771aa3431c99ff88141d936fe0",
            "956568dcae2d4e3db84b548968e5a6cf",
            "5343a113d74041f9a214dd457c2e9e9d",
            "b3c092a7136f4832a28cbd58b2359cfd",
            "563f616bdd114153ac03e536c2da99b6",
            "76e971dcf1874cbe9eeee32c33f5c04c",
            "ef801cec2a9b4c3aac085fa04787d0da",
            "8d2dfde3eb00454a88d6653fc789f986",
            "da0c72cbeb90411f8ff98971a408241d",
            "fc5576c0f76242e5bb31dcb480b442c5",
            "dfe7a93855924bb28ee8d1bbac378b6d",
            "89de464efe8f45b5b6b2fcef8ea4c161",
            "2e56fcbc733243f4ae7e85f98137f6dc",
            "10f4565f04954eca998dc3b32e59169f",
            "37d008bf97944b2a8f55c7a78bb22883"
          ]
        },
        "id": "fKCUedmkzAW5",
        "outputId": "c668635f-1013-480a-9913-01045975255e"
      },
      "execution_count": 33,
      "outputs": [
        {
          "output_type": "display_data",
          "data": {
            "text/plain": [
              "VBox(children=(HTML(value='<center> <img\\nsrc=https://huggingface.co/front/assets/huggingface_logo-noborder.sv…"
            ],
            "application/vnd.jupyter.widget-view+json": {
              "version_major": 2,
              "version_minor": 0,
              "model_id": "3d34379af865426ea667fe0739180246"
            }
          },
          "metadata": {}
        }
      ]
    },
    {
      "cell_type": "code",
      "execution_count": 34,
      "metadata": {
        "id": "imY1oC3SIrJf",
        "colab": {
          "base_uri": "https://localhost:8080/"
        },
        "outputId": "2219f21c-9112-45fb-9745-283c68f68776"
      },
      "outputs": [
        {
          "output_type": "stream",
          "name": "stderr",
          "text": [
            "Cloning https://huggingface.co/brettlin/distilbert-base-uncased-finetuned-ner into local empty directory.\n",
            "WARNING:huggingface_hub.repository:Cloning https://huggingface.co/brettlin/distilbert-base-uncased-finetuned-ner into local empty directory.\n"
          ]
        }
      ],
      "source": [
        "trainer = Trainer(\n",
        "    model,\n",
        "    args,\n",
        "    train_dataset=tokenized_datasets[\"train\"],\n",
        "    eval_dataset=tokenized_datasets[\"validation\"],\n",
        "    data_collator=data_collator,\n",
        "    tokenizer=tokenizer,\n",
        "    compute_metrics=compute_metrics\n",
        ")"
      ]
    },
    {
      "cell_type": "markdown",
      "metadata": {
        "id": "CdzABDVcIrJg"
      },
      "source": [
        "Finetune model by calling the `train` method:"
      ]
    },
    {
      "cell_type": "code",
      "execution_count": null,
      "metadata": {
        "colab": {
          "base_uri": "https://localhost:8080/",
          "height": 1000
        },
        "id": "qo9nuJPfXqxy",
        "outputId": "f34df8c0-4910-4287-9fe6-0840901dbaaa"
      },
      "outputs": [
        {
          "output_type": "stream",
          "name": "stderr",
          "text": [
            "/usr/local/lib/python3.10/dist-packages/transformers/optimization.py:411: FutureWarning: This implementation of AdamW is deprecated and will be removed in a future version. Use the PyTorch implementation torch.optim.AdamW instead, or set `no_deprecation_warning=True` to disable this warning\n",
            "  warnings.warn(\n",
            "You're using a DistilBertTokenizerFast tokenizer. Please note that with a fast tokenizer, using the `__call__` method is faster than using a method to encode the text followed by a call to the `pad` method to get a padded encoding.\n"
          ]
        },
        {
          "output_type": "display_data",
          "data": {
            "text/plain": [
              "<IPython.core.display.HTML object>"
            ],
            "text/html": [
              "\n",
              "    <div>\n",
              "      \n",
              "      <progress value='10001' max='18930' style='width:300px; height:20px; vertical-align: middle;'></progress>\n",
              "      [10001/18930 1:33:50 < 1:23:48, 1.78 it/s, Epoch 1.58/3]\n",
              "    </div>\n",
              "    <table border=\"1\" class=\"dataframe\">\n",
              "  <thead>\n",
              " <tr style=\"text-align: left;\">\n",
              "      <th>Epoch</th>\n",
              "      <th>Training Loss</th>\n",
              "      <th>Validation Loss</th>\n",
              "      <th>Precision</th>\n",
              "      <th>Recall</th>\n",
              "      <th>F1</th>\n",
              "      <th>Accuracy</th>\n",
              "    </tr>\n",
              "  </thead>\n",
              "  <tbody>\n",
              "    <tr>\n",
              "      <td>1</td>\n",
              "      <td>0.002800</td>\n",
              "      <td>0.002542</td>\n",
              "      <td>0.997699</td>\n",
              "      <td>0.997691</td>\n",
              "      <td>0.997695</td>\n",
              "      <td>0.999486</td>\n",
              "    </tr>\n",
              "  </tbody>\n",
              "</table><p>"
            ]
          },
          "metadata": {}
        },
        {
          "output_type": "stream",
          "name": "stderr",
          "text": [
            "/usr/local/lib/python3.10/dist-packages/seqeval/metrics/sequence_labeling.py:171: UserWarning: U-O seems not to be NE tag.\n",
            "  warnings.warn('{} seems not to be NE tag.'.format(chunk))\n",
            "/usr/local/lib/python3.10/dist-packages/seqeval/metrics/sequence_labeling.py:171: UserWarning: U-PER seems not to be NE tag.\n",
            "  warnings.warn('{} seems not to be NE tag.'.format(chunk))\n",
            "/usr/local/lib/python3.10/dist-packages/seqeval/metrics/sequence_labeling.py:171: UserWarning: U-DATE_TIME seems not to be NE tag.\n",
            "  warnings.warn('{} seems not to be NE tag.'.format(chunk))\n",
            "/usr/local/lib/python3.10/dist-packages/seqeval/metrics/sequence_labeling.py:171: UserWarning: U-US_PASSPORT seems not to be NE tag.\n",
            "  warnings.warn('{} seems not to be NE tag.'.format(chunk))\n",
            "/usr/local/lib/python3.10/dist-packages/seqeval/metrics/sequence_labeling.py:171: UserWarning: L-O seems not to be NE tag.\n",
            "  warnings.warn('{} seems not to be NE tag.'.format(chunk))\n",
            "/usr/local/lib/python3.10/dist-packages/seqeval/metrics/sequence_labeling.py:171: UserWarning: L-DATE_TIME seems not to be NE tag.\n",
            "  warnings.warn('{} seems not to be NE tag.'.format(chunk))\n",
            "/usr/local/lib/python3.10/dist-packages/seqeval/metrics/sequence_labeling.py:171: UserWarning: L-LOC seems not to be NE tag.\n",
            "  warnings.warn('{} seems not to be NE tag.'.format(chunk))\n",
            "/usr/local/lib/python3.10/dist-packages/seqeval/metrics/sequence_labeling.py:171: UserWarning: U-US_LICENSE_PLATE seems not to be NE tag.\n",
            "  warnings.warn('{} seems not to be NE tag.'.format(chunk))\n",
            "/usr/local/lib/python3.10/dist-packages/seqeval/metrics/sequence_labeling.py:171: UserWarning: U-US_DRIVER_LICENSE seems not to be NE tag.\n",
            "  warnings.warn('{} seems not to be NE tag.'.format(chunk))\n",
            "/usr/local/lib/python3.10/dist-packages/seqeval/metrics/sequence_labeling.py:171: UserWarning: U-LOC seems not to be NE tag.\n",
            "  warnings.warn('{} seems not to be NE tag.'.format(chunk))\n",
            "/usr/local/lib/python3.10/dist-packages/seqeval/metrics/sequence_labeling.py:171: UserWarning: L-PER seems not to be NE tag.\n",
            "  warnings.warn('{} seems not to be NE tag.'.format(chunk))\n",
            "/usr/local/lib/python3.10/dist-packages/seqeval/metrics/sequence_labeling.py:171: UserWarning: U-US_ITIN seems not to be NE tag.\n",
            "  warnings.warn('{} seems not to be NE tag.'.format(chunk))\n",
            "/usr/local/lib/python3.10/dist-packages/seqeval/metrics/sequence_labeling.py:171: UserWarning: L-TITLE seems not to be NE tag.\n",
            "  warnings.warn('{} seems not to be NE tag.'.format(chunk))\n",
            "/usr/local/lib/python3.10/dist-packages/seqeval/metrics/sequence_labeling.py:171: UserWarning: U-TITLE seems not to be NE tag.\n",
            "  warnings.warn('{} seems not to be NE tag.'.format(chunk))\n",
            "/usr/local/lib/python3.10/dist-packages/seqeval/metrics/sequence_labeling.py:171: UserWarning: U-AGE seems not to be NE tag.\n",
            "  warnings.warn('{} seems not to be NE tag.'.format(chunk))\n",
            "/usr/local/lib/python3.10/dist-packages/seqeval/metrics/sequence_labeling.py:171: UserWarning: L-US_LICENSE_PLATE seems not to be NE tag.\n",
            "  warnings.warn('{} seems not to be NE tag.'.format(chunk))\n",
            "/usr/local/lib/python3.10/dist-packages/seqeval/metrics/sequence_labeling.py:171: UserWarning: U-NRP seems not to be NE tag.\n",
            "  warnings.warn('{} seems not to be NE tag.'.format(chunk))\n",
            "/usr/local/lib/python3.10/dist-packages/seqeval/metrics/sequence_labeling.py:171: UserWarning: L-ORG seems not to be NE tag.\n",
            "  warnings.warn('{} seems not to be NE tag.'.format(chunk))\n",
            "/usr/local/lib/python3.10/dist-packages/seqeval/metrics/sequence_labeling.py:171: UserWarning: L-IMEI seems not to be NE tag.\n",
            "  warnings.warn('{} seems not to be NE tag.'.format(chunk))\n",
            "/usr/local/lib/python3.10/dist-packages/seqeval/metrics/sequence_labeling.py:171: UserWarning: L-MAC_ADDRESS seems not to be NE tag.\n",
            "  warnings.warn('{} seems not to be NE tag.'.format(chunk))\n",
            "/usr/local/lib/python3.10/dist-packages/seqeval/metrics/sequence_labeling.py:171: UserWarning: U-US_BANK_NUMBER seems not to be NE tag.\n",
            "  warnings.warn('{} seems not to be NE tag.'.format(chunk))\n",
            "/usr/local/lib/python3.10/dist-packages/seqeval/metrics/sequence_labeling.py:171: UserWarning: U-CREDIT_CARD seems not to be NE tag.\n",
            "  warnings.warn('{} seems not to be NE tag.'.format(chunk))\n",
            "/usr/local/lib/python3.10/dist-packages/seqeval/metrics/sequence_labeling.py:171: UserWarning: U-FINANCIAL seems not to be NE tag.\n",
            "  warnings.warn('{} seems not to be NE tag.'.format(chunk))\n",
            "/usr/local/lib/python3.10/dist-packages/seqeval/metrics/sequence_labeling.py:171: UserWarning: U-PASSWORD seems not to be NE tag.\n",
            "  warnings.warn('{} seems not to be NE tag.'.format(chunk))\n",
            "/usr/local/lib/python3.10/dist-packages/seqeval/metrics/sequence_labeling.py:171: UserWarning: U-ORG seems not to be NE tag.\n",
            "  warnings.warn('{} seems not to be NE tag.'.format(chunk))\n",
            "/usr/local/lib/python3.10/dist-packages/seqeval/metrics/sequence_labeling.py:171: UserWarning: L-NRP seems not to be NE tag.\n",
            "  warnings.warn('{} seems not to be NE tag.'.format(chunk))\n",
            "/usr/local/lib/python3.10/dist-packages/seqeval/metrics/sequence_labeling.py:171: UserWarning: U-MAC_ADDRESS seems not to be NE tag.\n",
            "  warnings.warn('{} seems not to be NE tag.'.format(chunk))\n",
            "/usr/local/lib/python3.10/dist-packages/seqeval/metrics/sequence_labeling.py:171: UserWarning: L-PASSWORD seems not to be NE tag.\n",
            "  warnings.warn('{} seems not to be NE tag.'.format(chunk))\n",
            "/usr/local/lib/python3.10/dist-packages/seqeval/metrics/sequence_labeling.py:171: UserWarning: L-US_DRIVER_LICENSE seems not to be NE tag.\n",
            "  warnings.warn('{} seems not to be NE tag.'.format(chunk))\n",
            "/usr/local/lib/python3.10/dist-packages/seqeval/metrics/sequence_labeling.py:171: UserWarning: L-FINANCIAL seems not to be NE tag.\n",
            "  warnings.warn('{} seems not to be NE tag.'.format(chunk))\n"
          ]
        }
      ],
      "source": [
        "trainer.train()"
      ]
    },
    {
      "cell_type": "markdown",
      "metadata": {
        "id": "CKASz-2vIrJi"
      },
      "source": [
        "The `evaluate` method allows you to evaluate again on the evaluation dataset or on another dataset:"
      ]
    },
    {
      "cell_type": "code",
      "execution_count": null,
      "metadata": {
        "id": "UOUcBkX8IrJi",
        "outputId": "de5b9dd6-9dc0-4702-cb43-55e9829fde25"
      },
      "outputs": [
        {
          "data": {
            "text/html": [
              "\n",
              "    <div>\n",
              "        <style>\n",
              "            /* Turns off some styling */\n",
              "            progress {\n",
              "                /* gets rid of default border in Firefox and Opera. */\n",
              "                border: none;\n",
              "                /* Needs to be in here for Safari polyfill so background images work as expected. */\n",
              "                background-size: auto;\n",
              "            }\n",
              "        </style>\n",
              "      \n",
              "      <progress value='408' max='204' style='width:300px; height:20px; vertical-align: middle;'></progress>\n",
              "      [204/204 00:05]\n",
              "    </div>\n",
              "    "
            ],
            "text/plain": [
              "<IPython.core.display.HTML object>"
            ]
          },
          "metadata": {},
          "output_type": "display_data"
        },
        {
          "data": {
            "text/plain": [
              "{'eval_loss': 0.05934586375951767,\n",
              " 'eval_precision': 0.9292672127518264,\n",
              " 'eval_recall': 0.9391430808815304,\n",
              " 'eval_f1': 0.9341790463472988,\n",
              " 'eval_accuracy': 0.9842565968195466,\n",
              " 'epoch': 3.0}"
            ]
          },
          "execution_count": null,
          "metadata": {},
          "output_type": "execute_result"
        }
      ],
      "source": [
        "trainer.evaluate()"
      ]
    },
    {
      "cell_type": "markdown",
      "metadata": {
        "id": "EJZDNOrdXqxy"
      },
      "source": [
        "To get the precision/recall/f1 computed for each category now that we have finished training, we can apply the same function as before on the result of the `predict` method:"
      ]
    },
    {
      "cell_type": "code",
      "execution_count": null,
      "metadata": {
        "id": "7xhvHPMmXqxy",
        "outputId": "26f75e38-a4af-49f1-e267-a8a9fdbb51d2"
      },
      "outputs": [
        {
          "data": {
            "text/plain": [
              "{'LOC': {'precision': 0.949718574108818,\n",
              "  'recall': 0.966768525592055,\n",
              "  'f1': 0.9581677077418134,\n",
              "  'number': 2618},\n",
              " 'MISC': {'precision': 0.8132387706855791,\n",
              "  'recall': 0.8383428107229894,\n",
              "  'f1': 0.8255999999999999,\n",
              "  'number': 1231},\n",
              " 'ORG': {'precision': 0.9055232558139535,\n",
              "  'recall': 0.9090466926070039,\n",
              "  'f1': 0.9072815533980583,\n",
              "  'number': 2056},\n",
              " 'PER': {'precision': 0.9759552042160737,\n",
              "  'recall': 0.9765985497692815,\n",
              "  'f1': 0.9762767710049424,\n",
              "  'number': 3034},\n",
              " 'overall_precision': 0.9292672127518264,\n",
              " 'overall_recall': 0.9391430808815304,\n",
              " 'overall_f1': 0.9341790463472988,\n",
              " 'overall_accuracy': 0.9842565968195466}"
            ]
          },
          "execution_count": null,
          "metadata": {},
          "output_type": "execute_result"
        }
      ],
      "source": [
        "predictions, labels, _ = trainer.predict(tokenized_datasets[\"validation\"])\n",
        "predictions = np.argmax(predictions, axis=2)\n",
        "\n",
        "# Remove ignored index (special tokens)\n",
        "true_predictions = [\n",
        "    [label_list[p] for (p, l) in zip(prediction, label) if l != -100]\n",
        "    for prediction, label in zip(predictions, labels)\n",
        "]\n",
        "true_labels = [\n",
        "    [label_list[l] for (p, l) in zip(prediction, label) if l != -100]\n",
        "    for prediction, label in zip(predictions, labels)\n",
        "]\n",
        "\n",
        "results = metric.compute(predictions=true_predictions, references=true_labels)\n",
        "results"
      ]
    },
    {
      "cell_type": "markdown",
      "metadata": {
        "id": "AKT9svCdXqxy"
      },
      "source": [
        "You can now upload the result of the training to the Hub, just execute this instruction:"
      ]
    },
    {
      "cell_type": "code",
      "execution_count": null,
      "metadata": {
        "id": "fcuibRfyXqxz"
      },
      "outputs": [],
      "source": [
        "trainer.push_to_hub()"
      ]
    },
    {
      "cell_type": "markdown",
      "metadata": {
        "id": "K0sbwPDVXqxz"
      },
      "source": [
        "You can now share this model with all your friends, family, favorite pets: they can all load it with the identifier `\"your-username/the-name-you-picked\"` so for instance:\n",
        "\n",
        "```python\n",
        "from transformers import AutoModelForTokenClassification\n",
        "\n",
        "model = AutoModelForTokenClassification.from_pretrained(\"sgugger/my-awesome-model\")\n",
        "```"
      ]
    },
    {
      "cell_type": "code",
      "execution_count": null,
      "metadata": {
        "id": "b9x66M1AXqxz"
      },
      "outputs": [],
      "source": []
    }
  ],
  "metadata": {
    "colab": {
      "name": "Token Classification",
      "provenance": [],
      "gpuType": "T4",
      "include_colab_link": true
    },
    "kernelspec": {
      "display_name": "Python 3",
      "name": "python3"
    },
    "language_info": {
      "codemirror_mode": {
        "name": "ipython",
        "version": 3
      },
      "file_extension": ".py",
      "mimetype": "text/x-python",
      "name": "python",
      "nbconvert_exporter": "python",
      "pygments_lexer": "ipython3",
      "version": "3.10.8"
    },
    "accelerator": "GPU",
    "widgets": {
      "application/vnd.jupyter.widget-state+json": {
        "33491cb2ac814b81ad0b7a57491fea73": {
          "model_module": "@jupyter-widgets/controls",
          "model_name": "HBoxModel",
          "model_module_version": "1.5.0",
          "state": {
            "_dom_classes": [],
            "_model_module": "@jupyter-widgets/controls",
            "_model_module_version": "1.5.0",
            "_model_name": "HBoxModel",
            "_view_count": null,
            "_view_module": "@jupyter-widgets/controls",
            "_view_module_version": "1.5.0",
            "_view_name": "HBoxView",
            "box_style": "",
            "children": [
              "IPY_MODEL_f3738459d3a146c2952d703b1ad77fa3",
              "IPY_MODEL_bc49386d3d7b4fccb7296a7552ac55f6",
              "IPY_MODEL_e45512cceb0f4a888ed9adea836d565e"
            ],
            "layout": "IPY_MODEL_3cbb77b39b6c4413bc8b2edf746fb5ca"
          }
        },
        "f3738459d3a146c2952d703b1ad77fa3": {
          "model_module": "@jupyter-widgets/controls",
          "model_name": "HTMLModel",
          "model_module_version": "1.5.0",
          "state": {
            "_dom_classes": [],
            "_model_module": "@jupyter-widgets/controls",
            "_model_module_version": "1.5.0",
            "_model_name": "HTMLModel",
            "_view_count": null,
            "_view_module": "@jupyter-widgets/controls",
            "_view_module_version": "1.5.0",
            "_view_name": "HTMLView",
            "description": "",
            "description_tooltip": null,
            "layout": "IPY_MODEL_97ff0c3d278b402b80d42cec8dd920ab",
            "placeholder": "​",
            "style": "IPY_MODEL_32ce53e1a830446f8a4dfb2f2f62da1f",
            "value": "100%"
          }
        },
        "bc49386d3d7b4fccb7296a7552ac55f6": {
          "model_module": "@jupyter-widgets/controls",
          "model_name": "FloatProgressModel",
          "model_module_version": "1.5.0",
          "state": {
            "_dom_classes": [],
            "_model_module": "@jupyter-widgets/controls",
            "_model_module_version": "1.5.0",
            "_model_name": "FloatProgressModel",
            "_view_count": null,
            "_view_module": "@jupyter-widgets/controls",
            "_view_module_version": "1.5.0",
            "_view_name": "ProgressView",
            "bar_style": "success",
            "description": "",
            "description_tooltip": null,
            "layout": "IPY_MODEL_788e5e8cebf44e8bbd27abb54d95c80c",
            "max": 3,
            "min": 0,
            "orientation": "horizontal",
            "style": "IPY_MODEL_cc974c06c0b54983ae43e054591bfe32",
            "value": 3
          }
        },
        "e45512cceb0f4a888ed9adea836d565e": {
          "model_module": "@jupyter-widgets/controls",
          "model_name": "HTMLModel",
          "model_module_version": "1.5.0",
          "state": {
            "_dom_classes": [],
            "_model_module": "@jupyter-widgets/controls",
            "_model_module_version": "1.5.0",
            "_model_name": "HTMLModel",
            "_view_count": null,
            "_view_module": "@jupyter-widgets/controls",
            "_view_module_version": "1.5.0",
            "_view_name": "HTMLView",
            "description": "",
            "description_tooltip": null,
            "layout": "IPY_MODEL_a3b85c697fe9467182c8539e16d04401",
            "placeholder": "​",
            "style": "IPY_MODEL_49c503d401e5415bb145ffa65b6dd7fd",
            "value": " 3/3 [00:00&lt;00:00, 67.63it/s]"
          }
        },
        "3cbb77b39b6c4413bc8b2edf746fb5ca": {
          "model_module": "@jupyter-widgets/base",
          "model_name": "LayoutModel",
          "model_module_version": "1.2.0",
          "state": {
            "_model_module": "@jupyter-widgets/base",
            "_model_module_version": "1.2.0",
            "_model_name": "LayoutModel",
            "_view_count": null,
            "_view_module": "@jupyter-widgets/base",
            "_view_module_version": "1.2.0",
            "_view_name": "LayoutView",
            "align_content": null,
            "align_items": null,
            "align_self": null,
            "border": null,
            "bottom": null,
            "display": null,
            "flex": null,
            "flex_flow": null,
            "grid_area": null,
            "grid_auto_columns": null,
            "grid_auto_flow": null,
            "grid_auto_rows": null,
            "grid_column": null,
            "grid_gap": null,
            "grid_row": null,
            "grid_template_areas": null,
            "grid_template_columns": null,
            "grid_template_rows": null,
            "height": null,
            "justify_content": null,
            "justify_items": null,
            "left": null,
            "margin": null,
            "max_height": null,
            "max_width": null,
            "min_height": null,
            "min_width": null,
            "object_fit": null,
            "object_position": null,
            "order": null,
            "overflow": null,
            "overflow_x": null,
            "overflow_y": null,
            "padding": null,
            "right": null,
            "top": null,
            "visibility": null,
            "width": null
          }
        },
        "97ff0c3d278b402b80d42cec8dd920ab": {
          "model_module": "@jupyter-widgets/base",
          "model_name": "LayoutModel",
          "model_module_version": "1.2.0",
          "state": {
            "_model_module": "@jupyter-widgets/base",
            "_model_module_version": "1.2.0",
            "_model_name": "LayoutModel",
            "_view_count": null,
            "_view_module": "@jupyter-widgets/base",
            "_view_module_version": "1.2.0",
            "_view_name": "LayoutView",
            "align_content": null,
            "align_items": null,
            "align_self": null,
            "border": null,
            "bottom": null,
            "display": null,
            "flex": null,
            "flex_flow": null,
            "grid_area": null,
            "grid_auto_columns": null,
            "grid_auto_flow": null,
            "grid_auto_rows": null,
            "grid_column": null,
            "grid_gap": null,
            "grid_row": null,
            "grid_template_areas": null,
            "grid_template_columns": null,
            "grid_template_rows": null,
            "height": null,
            "justify_content": null,
            "justify_items": null,
            "left": null,
            "margin": null,
            "max_height": null,
            "max_width": null,
            "min_height": null,
            "min_width": null,
            "object_fit": null,
            "object_position": null,
            "order": null,
            "overflow": null,
            "overflow_x": null,
            "overflow_y": null,
            "padding": null,
            "right": null,
            "top": null,
            "visibility": null,
            "width": null
          }
        },
        "32ce53e1a830446f8a4dfb2f2f62da1f": {
          "model_module": "@jupyter-widgets/controls",
          "model_name": "DescriptionStyleModel",
          "model_module_version": "1.5.0",
          "state": {
            "_model_module": "@jupyter-widgets/controls",
            "_model_module_version": "1.5.0",
            "_model_name": "DescriptionStyleModel",
            "_view_count": null,
            "_view_module": "@jupyter-widgets/base",
            "_view_module_version": "1.2.0",
            "_view_name": "StyleView",
            "description_width": ""
          }
        },
        "788e5e8cebf44e8bbd27abb54d95c80c": {
          "model_module": "@jupyter-widgets/base",
          "model_name": "LayoutModel",
          "model_module_version": "1.2.0",
          "state": {
            "_model_module": "@jupyter-widgets/base",
            "_model_module_version": "1.2.0",
            "_model_name": "LayoutModel",
            "_view_count": null,
            "_view_module": "@jupyter-widgets/base",
            "_view_module_version": "1.2.0",
            "_view_name": "LayoutView",
            "align_content": null,
            "align_items": null,
            "align_self": null,
            "border": null,
            "bottom": null,
            "display": null,
            "flex": null,
            "flex_flow": null,
            "grid_area": null,
            "grid_auto_columns": null,
            "grid_auto_flow": null,
            "grid_auto_rows": null,
            "grid_column": null,
            "grid_gap": null,
            "grid_row": null,
            "grid_template_areas": null,
            "grid_template_columns": null,
            "grid_template_rows": null,
            "height": null,
            "justify_content": null,
            "justify_items": null,
            "left": null,
            "margin": null,
            "max_height": null,
            "max_width": null,
            "min_height": null,
            "min_width": null,
            "object_fit": null,
            "object_position": null,
            "order": null,
            "overflow": null,
            "overflow_x": null,
            "overflow_y": null,
            "padding": null,
            "right": null,
            "top": null,
            "visibility": null,
            "width": null
          }
        },
        "cc974c06c0b54983ae43e054591bfe32": {
          "model_module": "@jupyter-widgets/controls",
          "model_name": "ProgressStyleModel",
          "model_module_version": "1.5.0",
          "state": {
            "_model_module": "@jupyter-widgets/controls",
            "_model_module_version": "1.5.0",
            "_model_name": "ProgressStyleModel",
            "_view_count": null,
            "_view_module": "@jupyter-widgets/base",
            "_view_module_version": "1.2.0",
            "_view_name": "StyleView",
            "bar_color": null,
            "description_width": ""
          }
        },
        "a3b85c697fe9467182c8539e16d04401": {
          "model_module": "@jupyter-widgets/base",
          "model_name": "LayoutModel",
          "model_module_version": "1.2.0",
          "state": {
            "_model_module": "@jupyter-widgets/base",
            "_model_module_version": "1.2.0",
            "_model_name": "LayoutModel",
            "_view_count": null,
            "_view_module": "@jupyter-widgets/base",
            "_view_module_version": "1.2.0",
            "_view_name": "LayoutView",
            "align_content": null,
            "align_items": null,
            "align_self": null,
            "border": null,
            "bottom": null,
            "display": null,
            "flex": null,
            "flex_flow": null,
            "grid_area": null,
            "grid_auto_columns": null,
            "grid_auto_flow": null,
            "grid_auto_rows": null,
            "grid_column": null,
            "grid_gap": null,
            "grid_row": null,
            "grid_template_areas": null,
            "grid_template_columns": null,
            "grid_template_rows": null,
            "height": null,
            "justify_content": null,
            "justify_items": null,
            "left": null,
            "margin": null,
            "max_height": null,
            "max_width": null,
            "min_height": null,
            "min_width": null,
            "object_fit": null,
            "object_position": null,
            "order": null,
            "overflow": null,
            "overflow_x": null,
            "overflow_y": null,
            "padding": null,
            "right": null,
            "top": null,
            "visibility": null,
            "width": null
          }
        },
        "49c503d401e5415bb145ffa65b6dd7fd": {
          "model_module": "@jupyter-widgets/controls",
          "model_name": "DescriptionStyleModel",
          "model_module_version": "1.5.0",
          "state": {
            "_model_module": "@jupyter-widgets/controls",
            "_model_module_version": "1.5.0",
            "_model_name": "DescriptionStyleModel",
            "_view_count": null,
            "_view_module": "@jupyter-widgets/base",
            "_view_module_version": "1.2.0",
            "_view_name": "StyleView",
            "description_width": ""
          }
        },
        "2aabe1618c9246ff9c8f101a628a7c4e": {
          "model_module": "@jupyter-widgets/controls",
          "model_name": "HBoxModel",
          "model_module_version": "1.5.0",
          "state": {
            "_dom_classes": [],
            "_model_module": "@jupyter-widgets/controls",
            "_model_module_version": "1.5.0",
            "_model_name": "HBoxModel",
            "_view_count": null,
            "_view_module": "@jupyter-widgets/controls",
            "_view_module_version": "1.5.0",
            "_view_name": "HBoxView",
            "box_style": "",
            "children": [
              "IPY_MODEL_6e8cdf14070f4a349ae39b4f13cea4c5",
              "IPY_MODEL_d21417d6ca074e458ee51c39e9420dd8",
              "IPY_MODEL_b50de50c4f72403a8f14478f46812d84"
            ],
            "layout": "IPY_MODEL_390a9795d45240288ddc975d29cfb02a"
          }
        },
        "6e8cdf14070f4a349ae39b4f13cea4c5": {
          "model_module": "@jupyter-widgets/controls",
          "model_name": "HTMLModel",
          "model_module_version": "1.5.0",
          "state": {
            "_dom_classes": [],
            "_model_module": "@jupyter-widgets/controls",
            "_model_module_version": "1.5.0",
            "_model_name": "HTMLModel",
            "_view_count": null,
            "_view_module": "@jupyter-widgets/controls",
            "_view_module_version": "1.5.0",
            "_view_name": "HTMLView",
            "description": "",
            "description_tooltip": null,
            "layout": "IPY_MODEL_f2b85ae1784e48688fc29df8a45e0694",
            "placeholder": "​",
            "style": "IPY_MODEL_b39756777a194452b4c0f07931c89f9c",
            "value": "Downloading builder script: "
          }
        },
        "d21417d6ca074e458ee51c39e9420dd8": {
          "model_module": "@jupyter-widgets/controls",
          "model_name": "FloatProgressModel",
          "model_module_version": "1.5.0",
          "state": {
            "_dom_classes": [],
            "_model_module": "@jupyter-widgets/controls",
            "_model_module_version": "1.5.0",
            "_model_name": "FloatProgressModel",
            "_view_count": null,
            "_view_module": "@jupyter-widgets/controls",
            "_view_module_version": "1.5.0",
            "_view_name": "ProgressView",
            "bar_style": "success",
            "description": "",
            "description_tooltip": null,
            "layout": "IPY_MODEL_da0b926aa780465fa6216809a93fa1b3",
            "max": 2472,
            "min": 0,
            "orientation": "horizontal",
            "style": "IPY_MODEL_ec5fa695016c46ac8336e0b223932e01",
            "value": 2472
          }
        },
        "b50de50c4f72403a8f14478f46812d84": {
          "model_module": "@jupyter-widgets/controls",
          "model_name": "HTMLModel",
          "model_module_version": "1.5.0",
          "state": {
            "_dom_classes": [],
            "_model_module": "@jupyter-widgets/controls",
            "_model_module_version": "1.5.0",
            "_model_name": "HTMLModel",
            "_view_count": null,
            "_view_module": "@jupyter-widgets/controls",
            "_view_module_version": "1.5.0",
            "_view_name": "HTMLView",
            "description": "",
            "description_tooltip": null,
            "layout": "IPY_MODEL_21c40f694d064069ae7ade40c9500bbd",
            "placeholder": "​",
            "style": "IPY_MODEL_a9fe807eaf764490aa6fdf52ed514c36",
            "value": " 6.33k/? [00:00&lt;00:00, 91.0kB/s]"
          }
        },
        "390a9795d45240288ddc975d29cfb02a": {
          "model_module": "@jupyter-widgets/base",
          "model_name": "LayoutModel",
          "model_module_version": "1.2.0",
          "state": {
            "_model_module": "@jupyter-widgets/base",
            "_model_module_version": "1.2.0",
            "_model_name": "LayoutModel",
            "_view_count": null,
            "_view_module": "@jupyter-widgets/base",
            "_view_module_version": "1.2.0",
            "_view_name": "LayoutView",
            "align_content": null,
            "align_items": null,
            "align_self": null,
            "border": null,
            "bottom": null,
            "display": null,
            "flex": null,
            "flex_flow": null,
            "grid_area": null,
            "grid_auto_columns": null,
            "grid_auto_flow": null,
            "grid_auto_rows": null,
            "grid_column": null,
            "grid_gap": null,
            "grid_row": null,
            "grid_template_areas": null,
            "grid_template_columns": null,
            "grid_template_rows": null,
            "height": null,
            "justify_content": null,
            "justify_items": null,
            "left": null,
            "margin": null,
            "max_height": null,
            "max_width": null,
            "min_height": null,
            "min_width": null,
            "object_fit": null,
            "object_position": null,
            "order": null,
            "overflow": null,
            "overflow_x": null,
            "overflow_y": null,
            "padding": null,
            "right": null,
            "top": null,
            "visibility": null,
            "width": null
          }
        },
        "f2b85ae1784e48688fc29df8a45e0694": {
          "model_module": "@jupyter-widgets/base",
          "model_name": "LayoutModel",
          "model_module_version": "1.2.0",
          "state": {
            "_model_module": "@jupyter-widgets/base",
            "_model_module_version": "1.2.0",
            "_model_name": "LayoutModel",
            "_view_count": null,
            "_view_module": "@jupyter-widgets/base",
            "_view_module_version": "1.2.0",
            "_view_name": "LayoutView",
            "align_content": null,
            "align_items": null,
            "align_self": null,
            "border": null,
            "bottom": null,
            "display": null,
            "flex": null,
            "flex_flow": null,
            "grid_area": null,
            "grid_auto_columns": null,
            "grid_auto_flow": null,
            "grid_auto_rows": null,
            "grid_column": null,
            "grid_gap": null,
            "grid_row": null,
            "grid_template_areas": null,
            "grid_template_columns": null,
            "grid_template_rows": null,
            "height": null,
            "justify_content": null,
            "justify_items": null,
            "left": null,
            "margin": null,
            "max_height": null,
            "max_width": null,
            "min_height": null,
            "min_width": null,
            "object_fit": null,
            "object_position": null,
            "order": null,
            "overflow": null,
            "overflow_x": null,
            "overflow_y": null,
            "padding": null,
            "right": null,
            "top": null,
            "visibility": null,
            "width": null
          }
        },
        "b39756777a194452b4c0f07931c89f9c": {
          "model_module": "@jupyter-widgets/controls",
          "model_name": "DescriptionStyleModel",
          "model_module_version": "1.5.0",
          "state": {
            "_model_module": "@jupyter-widgets/controls",
            "_model_module_version": "1.5.0",
            "_model_name": "DescriptionStyleModel",
            "_view_count": null,
            "_view_module": "@jupyter-widgets/base",
            "_view_module_version": "1.2.0",
            "_view_name": "StyleView",
            "description_width": ""
          }
        },
        "da0b926aa780465fa6216809a93fa1b3": {
          "model_module": "@jupyter-widgets/base",
          "model_name": "LayoutModel",
          "model_module_version": "1.2.0",
          "state": {
            "_model_module": "@jupyter-widgets/base",
            "_model_module_version": "1.2.0",
            "_model_name": "LayoutModel",
            "_view_count": null,
            "_view_module": "@jupyter-widgets/base",
            "_view_module_version": "1.2.0",
            "_view_name": "LayoutView",
            "align_content": null,
            "align_items": null,
            "align_self": null,
            "border": null,
            "bottom": null,
            "display": null,
            "flex": null,
            "flex_flow": null,
            "grid_area": null,
            "grid_auto_columns": null,
            "grid_auto_flow": null,
            "grid_auto_rows": null,
            "grid_column": null,
            "grid_gap": null,
            "grid_row": null,
            "grid_template_areas": null,
            "grid_template_columns": null,
            "grid_template_rows": null,
            "height": null,
            "justify_content": null,
            "justify_items": null,
            "left": null,
            "margin": null,
            "max_height": null,
            "max_width": null,
            "min_height": null,
            "min_width": null,
            "object_fit": null,
            "object_position": null,
            "order": null,
            "overflow": null,
            "overflow_x": null,
            "overflow_y": null,
            "padding": null,
            "right": null,
            "top": null,
            "visibility": null,
            "width": null
          }
        },
        "ec5fa695016c46ac8336e0b223932e01": {
          "model_module": "@jupyter-widgets/controls",
          "model_name": "ProgressStyleModel",
          "model_module_version": "1.5.0",
          "state": {
            "_model_module": "@jupyter-widgets/controls",
            "_model_module_version": "1.5.0",
            "_model_name": "ProgressStyleModel",
            "_view_count": null,
            "_view_module": "@jupyter-widgets/base",
            "_view_module_version": "1.2.0",
            "_view_name": "StyleView",
            "bar_color": null,
            "description_width": ""
          }
        },
        "21c40f694d064069ae7ade40c9500bbd": {
          "model_module": "@jupyter-widgets/base",
          "model_name": "LayoutModel",
          "model_module_version": "1.2.0",
          "state": {
            "_model_module": "@jupyter-widgets/base",
            "_model_module_version": "1.2.0",
            "_model_name": "LayoutModel",
            "_view_count": null,
            "_view_module": "@jupyter-widgets/base",
            "_view_module_version": "1.2.0",
            "_view_name": "LayoutView",
            "align_content": null,
            "align_items": null,
            "align_self": null,
            "border": null,
            "bottom": null,
            "display": null,
            "flex": null,
            "flex_flow": null,
            "grid_area": null,
            "grid_auto_columns": null,
            "grid_auto_flow": null,
            "grid_auto_rows": null,
            "grid_column": null,
            "grid_gap": null,
            "grid_row": null,
            "grid_template_areas": null,
            "grid_template_columns": null,
            "grid_template_rows": null,
            "height": null,
            "justify_content": null,
            "justify_items": null,
            "left": null,
            "margin": null,
            "max_height": null,
            "max_width": null,
            "min_height": null,
            "min_width": null,
            "object_fit": null,
            "object_position": null,
            "order": null,
            "overflow": null,
            "overflow_x": null,
            "overflow_y": null,
            "padding": null,
            "right": null,
            "top": null,
            "visibility": null,
            "width": null
          }
        },
        "a9fe807eaf764490aa6fdf52ed514c36": {
          "model_module": "@jupyter-widgets/controls",
          "model_name": "DescriptionStyleModel",
          "model_module_version": "1.5.0",
          "state": {
            "_model_module": "@jupyter-widgets/controls",
            "_model_module_version": "1.5.0",
            "_model_name": "DescriptionStyleModel",
            "_view_count": null,
            "_view_module": "@jupyter-widgets/base",
            "_view_module_version": "1.2.0",
            "_view_name": "StyleView",
            "description_width": ""
          }
        },
        "3d34379af865426ea667fe0739180246": {
          "model_module": "@jupyter-widgets/controls",
          "model_name": "VBoxModel",
          "model_module_version": "1.5.0",
          "state": {
            "_dom_classes": [],
            "_model_module": "@jupyter-widgets/controls",
            "_model_module_version": "1.5.0",
            "_model_name": "VBoxModel",
            "_view_count": null,
            "_view_module": "@jupyter-widgets/controls",
            "_view_module_version": "1.5.0",
            "_view_name": "VBoxView",
            "box_style": "",
            "children": [
              "IPY_MODEL_b3c092a7136f4832a28cbd58b2359cfd",
              "IPY_MODEL_563f616bdd114153ac03e536c2da99b6",
              "IPY_MODEL_76e971dcf1874cbe9eeee32c33f5c04c",
              "IPY_MODEL_ef801cec2a9b4c3aac085fa04787d0da"
            ],
            "layout": "IPY_MODEL_6e9f5d861bc64c08840c9f198650d8ed"
          }
        },
        "fbf79c89d247451e86c4ad6f45c85980": {
          "model_module": "@jupyter-widgets/controls",
          "model_name": "HTMLModel",
          "model_module_version": "1.5.0",
          "state": {
            "_dom_classes": [],
            "_model_module": "@jupyter-widgets/controls",
            "_model_module_version": "1.5.0",
            "_model_name": "HTMLModel",
            "_view_count": null,
            "_view_module": "@jupyter-widgets/controls",
            "_view_module_version": "1.5.0",
            "_view_name": "HTMLView",
            "description": "",
            "description_tooltip": null,
            "layout": "IPY_MODEL_0352836200824f2db2e0aecb01bcbcbc",
            "placeholder": "​",
            "style": "IPY_MODEL_440a38ceb7d14174a67487ddc85669f9",
            "value": "<center> <img\nsrc=https://huggingface.co/front/assets/huggingface_logo-noborder.svg\nalt='Hugging Face'> <br> Copy a token from <a\nhref=\"https://huggingface.co/settings/tokens\" target=\"_blank\">your Hugging Face\ntokens page</a> and paste it below. <br> Immediately click login after copying\nyour token or it might be stored in plain text in this notebook file. </center>"
          }
        },
        "a64277d03aa94aa2b0faaaa7c9325704": {
          "model_module": "@jupyter-widgets/controls",
          "model_name": "PasswordModel",
          "model_module_version": "1.5.0",
          "state": {
            "_dom_classes": [],
            "_model_module": "@jupyter-widgets/controls",
            "_model_module_version": "1.5.0",
            "_model_name": "PasswordModel",
            "_view_count": null,
            "_view_module": "@jupyter-widgets/controls",
            "_view_module_version": "1.5.0",
            "_view_name": "PasswordView",
            "continuous_update": true,
            "description": "Token:",
            "description_tooltip": null,
            "disabled": false,
            "layout": "IPY_MODEL_f99e09c40a274a5888b093817b0eaf30",
            "placeholder": "​",
            "style": "IPY_MODEL_f12ee0280655408cbe562f7c2a16a5fe",
            "value": ""
          }
        },
        "f3e8e885079a40f0a613ce8556916eeb": {
          "model_module": "@jupyter-widgets/controls",
          "model_name": "CheckboxModel",
          "model_module_version": "1.5.0",
          "state": {
            "_dom_classes": [],
            "_model_module": "@jupyter-widgets/controls",
            "_model_module_version": "1.5.0",
            "_model_name": "CheckboxModel",
            "_view_count": null,
            "_view_module": "@jupyter-widgets/controls",
            "_view_module_version": "1.5.0",
            "_view_name": "CheckboxView",
            "description": "Add token as git credential?",
            "description_tooltip": null,
            "disabled": false,
            "indent": true,
            "layout": "IPY_MODEL_c8616362cbec4fd9acf74400c37a43c1",
            "style": "IPY_MODEL_1db7067509984d1d9bbfc6e86fbe4cf1",
            "value": true
          }
        },
        "2df43aa5ad8f4b88ae5ecdd4e51a2e24": {
          "model_module": "@jupyter-widgets/controls",
          "model_name": "ButtonModel",
          "model_module_version": "1.5.0",
          "state": {
            "_dom_classes": [],
            "_model_module": "@jupyter-widgets/controls",
            "_model_module_version": "1.5.0",
            "_model_name": "ButtonModel",
            "_view_count": null,
            "_view_module": "@jupyter-widgets/controls",
            "_view_module_version": "1.5.0",
            "_view_name": "ButtonView",
            "button_style": "",
            "description": "Login",
            "disabled": false,
            "icon": "",
            "layout": "IPY_MODEL_f671feda8d6a489b97ac0a9eb05bd231",
            "style": "IPY_MODEL_a4949dd5e5c44861b1b1e2e5c19692e0",
            "tooltip": ""
          }
        },
        "4c67321e86c5440aa1dd29f2833381b7": {
          "model_module": "@jupyter-widgets/controls",
          "model_name": "HTMLModel",
          "model_module_version": "1.5.0",
          "state": {
            "_dom_classes": [],
            "_model_module": "@jupyter-widgets/controls",
            "_model_module_version": "1.5.0",
            "_model_name": "HTMLModel",
            "_view_count": null,
            "_view_module": "@jupyter-widgets/controls",
            "_view_module_version": "1.5.0",
            "_view_name": "HTMLView",
            "description": "",
            "description_tooltip": null,
            "layout": "IPY_MODEL_be411cb584324d969947215376844fd5",
            "placeholder": "​",
            "style": "IPY_MODEL_4dbe9406495248eb964788157a7179ba",
            "value": "\n<b>Pro Tip:</b> If you don't already have one, you can create a dedicated\n'notebooks' token with 'write' access, that you can then easily reuse for all\nnotebooks. </center>"
          }
        },
        "6e9f5d861bc64c08840c9f198650d8ed": {
          "model_module": "@jupyter-widgets/base",
          "model_name": "LayoutModel",
          "model_module_version": "1.2.0",
          "state": {
            "_model_module": "@jupyter-widgets/base",
            "_model_module_version": "1.2.0",
            "_model_name": "LayoutModel",
            "_view_count": null,
            "_view_module": "@jupyter-widgets/base",
            "_view_module_version": "1.2.0",
            "_view_name": "LayoutView",
            "align_content": null,
            "align_items": "center",
            "align_self": null,
            "border": null,
            "bottom": null,
            "display": "flex",
            "flex": null,
            "flex_flow": "column",
            "grid_area": null,
            "grid_auto_columns": null,
            "grid_auto_flow": null,
            "grid_auto_rows": null,
            "grid_column": null,
            "grid_gap": null,
            "grid_row": null,
            "grid_template_areas": null,
            "grid_template_columns": null,
            "grid_template_rows": null,
            "height": null,
            "justify_content": null,
            "justify_items": null,
            "left": null,
            "margin": null,
            "max_height": null,
            "max_width": null,
            "min_height": null,
            "min_width": null,
            "object_fit": null,
            "object_position": null,
            "order": null,
            "overflow": null,
            "overflow_x": null,
            "overflow_y": null,
            "padding": null,
            "right": null,
            "top": null,
            "visibility": null,
            "width": "50%"
          }
        },
        "0352836200824f2db2e0aecb01bcbcbc": {
          "model_module": "@jupyter-widgets/base",
          "model_name": "LayoutModel",
          "model_module_version": "1.2.0",
          "state": {
            "_model_module": "@jupyter-widgets/base",
            "_model_module_version": "1.2.0",
            "_model_name": "LayoutModel",
            "_view_count": null,
            "_view_module": "@jupyter-widgets/base",
            "_view_module_version": "1.2.0",
            "_view_name": "LayoutView",
            "align_content": null,
            "align_items": null,
            "align_self": null,
            "border": null,
            "bottom": null,
            "display": null,
            "flex": null,
            "flex_flow": null,
            "grid_area": null,
            "grid_auto_columns": null,
            "grid_auto_flow": null,
            "grid_auto_rows": null,
            "grid_column": null,
            "grid_gap": null,
            "grid_row": null,
            "grid_template_areas": null,
            "grid_template_columns": null,
            "grid_template_rows": null,
            "height": null,
            "justify_content": null,
            "justify_items": null,
            "left": null,
            "margin": null,
            "max_height": null,
            "max_width": null,
            "min_height": null,
            "min_width": null,
            "object_fit": null,
            "object_position": null,
            "order": null,
            "overflow": null,
            "overflow_x": null,
            "overflow_y": null,
            "padding": null,
            "right": null,
            "top": null,
            "visibility": null,
            "width": null
          }
        },
        "440a38ceb7d14174a67487ddc85669f9": {
          "model_module": "@jupyter-widgets/controls",
          "model_name": "DescriptionStyleModel",
          "model_module_version": "1.5.0",
          "state": {
            "_model_module": "@jupyter-widgets/controls",
            "_model_module_version": "1.5.0",
            "_model_name": "DescriptionStyleModel",
            "_view_count": null,
            "_view_module": "@jupyter-widgets/base",
            "_view_module_version": "1.2.0",
            "_view_name": "StyleView",
            "description_width": ""
          }
        },
        "f99e09c40a274a5888b093817b0eaf30": {
          "model_module": "@jupyter-widgets/base",
          "model_name": "LayoutModel",
          "model_module_version": "1.2.0",
          "state": {
            "_model_module": "@jupyter-widgets/base",
            "_model_module_version": "1.2.0",
            "_model_name": "LayoutModel",
            "_view_count": null,
            "_view_module": "@jupyter-widgets/base",
            "_view_module_version": "1.2.0",
            "_view_name": "LayoutView",
            "align_content": null,
            "align_items": null,
            "align_self": null,
            "border": null,
            "bottom": null,
            "display": null,
            "flex": null,
            "flex_flow": null,
            "grid_area": null,
            "grid_auto_columns": null,
            "grid_auto_flow": null,
            "grid_auto_rows": null,
            "grid_column": null,
            "grid_gap": null,
            "grid_row": null,
            "grid_template_areas": null,
            "grid_template_columns": null,
            "grid_template_rows": null,
            "height": null,
            "justify_content": null,
            "justify_items": null,
            "left": null,
            "margin": null,
            "max_height": null,
            "max_width": null,
            "min_height": null,
            "min_width": null,
            "object_fit": null,
            "object_position": null,
            "order": null,
            "overflow": null,
            "overflow_x": null,
            "overflow_y": null,
            "padding": null,
            "right": null,
            "top": null,
            "visibility": null,
            "width": null
          }
        },
        "f12ee0280655408cbe562f7c2a16a5fe": {
          "model_module": "@jupyter-widgets/controls",
          "model_name": "DescriptionStyleModel",
          "model_module_version": "1.5.0",
          "state": {
            "_model_module": "@jupyter-widgets/controls",
            "_model_module_version": "1.5.0",
            "_model_name": "DescriptionStyleModel",
            "_view_count": null,
            "_view_module": "@jupyter-widgets/base",
            "_view_module_version": "1.2.0",
            "_view_name": "StyleView",
            "description_width": ""
          }
        },
        "c8616362cbec4fd9acf74400c37a43c1": {
          "model_module": "@jupyter-widgets/base",
          "model_name": "LayoutModel",
          "model_module_version": "1.2.0",
          "state": {
            "_model_module": "@jupyter-widgets/base",
            "_model_module_version": "1.2.0",
            "_model_name": "LayoutModel",
            "_view_count": null,
            "_view_module": "@jupyter-widgets/base",
            "_view_module_version": "1.2.0",
            "_view_name": "LayoutView",
            "align_content": null,
            "align_items": null,
            "align_self": null,
            "border": null,
            "bottom": null,
            "display": null,
            "flex": null,
            "flex_flow": null,
            "grid_area": null,
            "grid_auto_columns": null,
            "grid_auto_flow": null,
            "grid_auto_rows": null,
            "grid_column": null,
            "grid_gap": null,
            "grid_row": null,
            "grid_template_areas": null,
            "grid_template_columns": null,
            "grid_template_rows": null,
            "height": null,
            "justify_content": null,
            "justify_items": null,
            "left": null,
            "margin": null,
            "max_height": null,
            "max_width": null,
            "min_height": null,
            "min_width": null,
            "object_fit": null,
            "object_position": null,
            "order": null,
            "overflow": null,
            "overflow_x": null,
            "overflow_y": null,
            "padding": null,
            "right": null,
            "top": null,
            "visibility": null,
            "width": null
          }
        },
        "1db7067509984d1d9bbfc6e86fbe4cf1": {
          "model_module": "@jupyter-widgets/controls",
          "model_name": "DescriptionStyleModel",
          "model_module_version": "1.5.0",
          "state": {
            "_model_module": "@jupyter-widgets/controls",
            "_model_module_version": "1.5.0",
            "_model_name": "DescriptionStyleModel",
            "_view_count": null,
            "_view_module": "@jupyter-widgets/base",
            "_view_module_version": "1.2.0",
            "_view_name": "StyleView",
            "description_width": ""
          }
        },
        "f671feda8d6a489b97ac0a9eb05bd231": {
          "model_module": "@jupyter-widgets/base",
          "model_name": "LayoutModel",
          "model_module_version": "1.2.0",
          "state": {
            "_model_module": "@jupyter-widgets/base",
            "_model_module_version": "1.2.0",
            "_model_name": "LayoutModel",
            "_view_count": null,
            "_view_module": "@jupyter-widgets/base",
            "_view_module_version": "1.2.0",
            "_view_name": "LayoutView",
            "align_content": null,
            "align_items": null,
            "align_self": null,
            "border": null,
            "bottom": null,
            "display": null,
            "flex": null,
            "flex_flow": null,
            "grid_area": null,
            "grid_auto_columns": null,
            "grid_auto_flow": null,
            "grid_auto_rows": null,
            "grid_column": null,
            "grid_gap": null,
            "grid_row": null,
            "grid_template_areas": null,
            "grid_template_columns": null,
            "grid_template_rows": null,
            "height": null,
            "justify_content": null,
            "justify_items": null,
            "left": null,
            "margin": null,
            "max_height": null,
            "max_width": null,
            "min_height": null,
            "min_width": null,
            "object_fit": null,
            "object_position": null,
            "order": null,
            "overflow": null,
            "overflow_x": null,
            "overflow_y": null,
            "padding": null,
            "right": null,
            "top": null,
            "visibility": null,
            "width": null
          }
        },
        "a4949dd5e5c44861b1b1e2e5c19692e0": {
          "model_module": "@jupyter-widgets/controls",
          "model_name": "ButtonStyleModel",
          "model_module_version": "1.5.0",
          "state": {
            "_model_module": "@jupyter-widgets/controls",
            "_model_module_version": "1.5.0",
            "_model_name": "ButtonStyleModel",
            "_view_count": null,
            "_view_module": "@jupyter-widgets/base",
            "_view_module_version": "1.2.0",
            "_view_name": "StyleView",
            "button_color": null,
            "font_weight": ""
          }
        },
        "be411cb584324d969947215376844fd5": {
          "model_module": "@jupyter-widgets/base",
          "model_name": "LayoutModel",
          "model_module_version": "1.2.0",
          "state": {
            "_model_module": "@jupyter-widgets/base",
            "_model_module_version": "1.2.0",
            "_model_name": "LayoutModel",
            "_view_count": null,
            "_view_module": "@jupyter-widgets/base",
            "_view_module_version": "1.2.0",
            "_view_name": "LayoutView",
            "align_content": null,
            "align_items": null,
            "align_self": null,
            "border": null,
            "bottom": null,
            "display": null,
            "flex": null,
            "flex_flow": null,
            "grid_area": null,
            "grid_auto_columns": null,
            "grid_auto_flow": null,
            "grid_auto_rows": null,
            "grid_column": null,
            "grid_gap": null,
            "grid_row": null,
            "grid_template_areas": null,
            "grid_template_columns": null,
            "grid_template_rows": null,
            "height": null,
            "justify_content": null,
            "justify_items": null,
            "left": null,
            "margin": null,
            "max_height": null,
            "max_width": null,
            "min_height": null,
            "min_width": null,
            "object_fit": null,
            "object_position": null,
            "order": null,
            "overflow": null,
            "overflow_x": null,
            "overflow_y": null,
            "padding": null,
            "right": null,
            "top": null,
            "visibility": null,
            "width": null
          }
        },
        "4dbe9406495248eb964788157a7179ba": {
          "model_module": "@jupyter-widgets/controls",
          "model_name": "DescriptionStyleModel",
          "model_module_version": "1.5.0",
          "state": {
            "_model_module": "@jupyter-widgets/controls",
            "_model_module_version": "1.5.0",
            "_model_name": "DescriptionStyleModel",
            "_view_count": null,
            "_view_module": "@jupyter-widgets/base",
            "_view_module_version": "1.2.0",
            "_view_name": "StyleView",
            "description_width": ""
          }
        },
        "eb879c771aa3431c99ff88141d936fe0": {
          "model_module": "@jupyter-widgets/controls",
          "model_name": "LabelModel",
          "model_module_version": "1.5.0",
          "state": {
            "_dom_classes": [],
            "_model_module": "@jupyter-widgets/controls",
            "_model_module_version": "1.5.0",
            "_model_name": "LabelModel",
            "_view_count": null,
            "_view_module": "@jupyter-widgets/controls",
            "_view_module_version": "1.5.0",
            "_view_name": "LabelView",
            "description": "",
            "description_tooltip": null,
            "layout": "IPY_MODEL_956568dcae2d4e3db84b548968e5a6cf",
            "placeholder": "​",
            "style": "IPY_MODEL_5343a113d74041f9a214dd457c2e9e9d",
            "value": "Connecting..."
          }
        },
        "956568dcae2d4e3db84b548968e5a6cf": {
          "model_module": "@jupyter-widgets/base",
          "model_name": "LayoutModel",
          "model_module_version": "1.2.0",
          "state": {
            "_model_module": "@jupyter-widgets/base",
            "_model_module_version": "1.2.0",
            "_model_name": "LayoutModel",
            "_view_count": null,
            "_view_module": "@jupyter-widgets/base",
            "_view_module_version": "1.2.0",
            "_view_name": "LayoutView",
            "align_content": null,
            "align_items": null,
            "align_self": null,
            "border": null,
            "bottom": null,
            "display": null,
            "flex": null,
            "flex_flow": null,
            "grid_area": null,
            "grid_auto_columns": null,
            "grid_auto_flow": null,
            "grid_auto_rows": null,
            "grid_column": null,
            "grid_gap": null,
            "grid_row": null,
            "grid_template_areas": null,
            "grid_template_columns": null,
            "grid_template_rows": null,
            "height": null,
            "justify_content": null,
            "justify_items": null,
            "left": null,
            "margin": null,
            "max_height": null,
            "max_width": null,
            "min_height": null,
            "min_width": null,
            "object_fit": null,
            "object_position": null,
            "order": null,
            "overflow": null,
            "overflow_x": null,
            "overflow_y": null,
            "padding": null,
            "right": null,
            "top": null,
            "visibility": null,
            "width": null
          }
        },
        "5343a113d74041f9a214dd457c2e9e9d": {
          "model_module": "@jupyter-widgets/controls",
          "model_name": "DescriptionStyleModel",
          "model_module_version": "1.5.0",
          "state": {
            "_model_module": "@jupyter-widgets/controls",
            "_model_module_version": "1.5.0",
            "_model_name": "DescriptionStyleModel",
            "_view_count": null,
            "_view_module": "@jupyter-widgets/base",
            "_view_module_version": "1.2.0",
            "_view_name": "StyleView",
            "description_width": ""
          }
        },
        "b3c092a7136f4832a28cbd58b2359cfd": {
          "model_module": "@jupyter-widgets/controls",
          "model_name": "LabelModel",
          "model_module_version": "1.5.0",
          "state": {
            "_dom_classes": [],
            "_model_module": "@jupyter-widgets/controls",
            "_model_module_version": "1.5.0",
            "_model_name": "LabelModel",
            "_view_count": null,
            "_view_module": "@jupyter-widgets/controls",
            "_view_module_version": "1.5.0",
            "_view_name": "LabelView",
            "description": "",
            "description_tooltip": null,
            "layout": "IPY_MODEL_8d2dfde3eb00454a88d6653fc789f986",
            "placeholder": "​",
            "style": "IPY_MODEL_da0c72cbeb90411f8ff98971a408241d",
            "value": "Token is valid (permission: write)."
          }
        },
        "563f616bdd114153ac03e536c2da99b6": {
          "model_module": "@jupyter-widgets/controls",
          "model_name": "LabelModel",
          "model_module_version": "1.5.0",
          "state": {
            "_dom_classes": [],
            "_model_module": "@jupyter-widgets/controls",
            "_model_module_version": "1.5.0",
            "_model_name": "LabelModel",
            "_view_count": null,
            "_view_module": "@jupyter-widgets/controls",
            "_view_module_version": "1.5.0",
            "_view_name": "LabelView",
            "description": "",
            "description_tooltip": null,
            "layout": "IPY_MODEL_fc5576c0f76242e5bb31dcb480b442c5",
            "placeholder": "​",
            "style": "IPY_MODEL_dfe7a93855924bb28ee8d1bbac378b6d",
            "value": "Your token has been saved in your configured git credential helpers (store)."
          }
        },
        "76e971dcf1874cbe9eeee32c33f5c04c": {
          "model_module": "@jupyter-widgets/controls",
          "model_name": "LabelModel",
          "model_module_version": "1.5.0",
          "state": {
            "_dom_classes": [],
            "_model_module": "@jupyter-widgets/controls",
            "_model_module_version": "1.5.0",
            "_model_name": "LabelModel",
            "_view_count": null,
            "_view_module": "@jupyter-widgets/controls",
            "_view_module_version": "1.5.0",
            "_view_name": "LabelView",
            "description": "",
            "description_tooltip": null,
            "layout": "IPY_MODEL_89de464efe8f45b5b6b2fcef8ea4c161",
            "placeholder": "​",
            "style": "IPY_MODEL_2e56fcbc733243f4ae7e85f98137f6dc",
            "value": "Your token has been saved to /root/.cache/huggingface/token"
          }
        },
        "ef801cec2a9b4c3aac085fa04787d0da": {
          "model_module": "@jupyter-widgets/controls",
          "model_name": "LabelModel",
          "model_module_version": "1.5.0",
          "state": {
            "_dom_classes": [],
            "_model_module": "@jupyter-widgets/controls",
            "_model_module_version": "1.5.0",
            "_model_name": "LabelModel",
            "_view_count": null,
            "_view_module": "@jupyter-widgets/controls",
            "_view_module_version": "1.5.0",
            "_view_name": "LabelView",
            "description": "",
            "description_tooltip": null,
            "layout": "IPY_MODEL_10f4565f04954eca998dc3b32e59169f",
            "placeholder": "​",
            "style": "IPY_MODEL_37d008bf97944b2a8f55c7a78bb22883",
            "value": "Login successful"
          }
        },
        "8d2dfde3eb00454a88d6653fc789f986": {
          "model_module": "@jupyter-widgets/base",
          "model_name": "LayoutModel",
          "model_module_version": "1.2.0",
          "state": {
            "_model_module": "@jupyter-widgets/base",
            "_model_module_version": "1.2.0",
            "_model_name": "LayoutModel",
            "_view_count": null,
            "_view_module": "@jupyter-widgets/base",
            "_view_module_version": "1.2.0",
            "_view_name": "LayoutView",
            "align_content": null,
            "align_items": null,
            "align_self": null,
            "border": null,
            "bottom": null,
            "display": null,
            "flex": null,
            "flex_flow": null,
            "grid_area": null,
            "grid_auto_columns": null,
            "grid_auto_flow": null,
            "grid_auto_rows": null,
            "grid_column": null,
            "grid_gap": null,
            "grid_row": null,
            "grid_template_areas": null,
            "grid_template_columns": null,
            "grid_template_rows": null,
            "height": null,
            "justify_content": null,
            "justify_items": null,
            "left": null,
            "margin": null,
            "max_height": null,
            "max_width": null,
            "min_height": null,
            "min_width": null,
            "object_fit": null,
            "object_position": null,
            "order": null,
            "overflow": null,
            "overflow_x": null,
            "overflow_y": null,
            "padding": null,
            "right": null,
            "top": null,
            "visibility": null,
            "width": null
          }
        },
        "da0c72cbeb90411f8ff98971a408241d": {
          "model_module": "@jupyter-widgets/controls",
          "model_name": "DescriptionStyleModel",
          "model_module_version": "1.5.0",
          "state": {
            "_model_module": "@jupyter-widgets/controls",
            "_model_module_version": "1.5.0",
            "_model_name": "DescriptionStyleModel",
            "_view_count": null,
            "_view_module": "@jupyter-widgets/base",
            "_view_module_version": "1.2.0",
            "_view_name": "StyleView",
            "description_width": ""
          }
        },
        "fc5576c0f76242e5bb31dcb480b442c5": {
          "model_module": "@jupyter-widgets/base",
          "model_name": "LayoutModel",
          "model_module_version": "1.2.0",
          "state": {
            "_model_module": "@jupyter-widgets/base",
            "_model_module_version": "1.2.0",
            "_model_name": "LayoutModel",
            "_view_count": null,
            "_view_module": "@jupyter-widgets/base",
            "_view_module_version": "1.2.0",
            "_view_name": "LayoutView",
            "align_content": null,
            "align_items": null,
            "align_self": null,
            "border": null,
            "bottom": null,
            "display": null,
            "flex": null,
            "flex_flow": null,
            "grid_area": null,
            "grid_auto_columns": null,
            "grid_auto_flow": null,
            "grid_auto_rows": null,
            "grid_column": null,
            "grid_gap": null,
            "grid_row": null,
            "grid_template_areas": null,
            "grid_template_columns": null,
            "grid_template_rows": null,
            "height": null,
            "justify_content": null,
            "justify_items": null,
            "left": null,
            "margin": null,
            "max_height": null,
            "max_width": null,
            "min_height": null,
            "min_width": null,
            "object_fit": null,
            "object_position": null,
            "order": null,
            "overflow": null,
            "overflow_x": null,
            "overflow_y": null,
            "padding": null,
            "right": null,
            "top": null,
            "visibility": null,
            "width": null
          }
        },
        "dfe7a93855924bb28ee8d1bbac378b6d": {
          "model_module": "@jupyter-widgets/controls",
          "model_name": "DescriptionStyleModel",
          "model_module_version": "1.5.0",
          "state": {
            "_model_module": "@jupyter-widgets/controls",
            "_model_module_version": "1.5.0",
            "_model_name": "DescriptionStyleModel",
            "_view_count": null,
            "_view_module": "@jupyter-widgets/base",
            "_view_module_version": "1.2.0",
            "_view_name": "StyleView",
            "description_width": ""
          }
        },
        "89de464efe8f45b5b6b2fcef8ea4c161": {
          "model_module": "@jupyter-widgets/base",
          "model_name": "LayoutModel",
          "model_module_version": "1.2.0",
          "state": {
            "_model_module": "@jupyter-widgets/base",
            "_model_module_version": "1.2.0",
            "_model_name": "LayoutModel",
            "_view_count": null,
            "_view_module": "@jupyter-widgets/base",
            "_view_module_version": "1.2.0",
            "_view_name": "LayoutView",
            "align_content": null,
            "align_items": null,
            "align_self": null,
            "border": null,
            "bottom": null,
            "display": null,
            "flex": null,
            "flex_flow": null,
            "grid_area": null,
            "grid_auto_columns": null,
            "grid_auto_flow": null,
            "grid_auto_rows": null,
            "grid_column": null,
            "grid_gap": null,
            "grid_row": null,
            "grid_template_areas": null,
            "grid_template_columns": null,
            "grid_template_rows": null,
            "height": null,
            "justify_content": null,
            "justify_items": null,
            "left": null,
            "margin": null,
            "max_height": null,
            "max_width": null,
            "min_height": null,
            "min_width": null,
            "object_fit": null,
            "object_position": null,
            "order": null,
            "overflow": null,
            "overflow_x": null,
            "overflow_y": null,
            "padding": null,
            "right": null,
            "top": null,
            "visibility": null,
            "width": null
          }
        },
        "2e56fcbc733243f4ae7e85f98137f6dc": {
          "model_module": "@jupyter-widgets/controls",
          "model_name": "DescriptionStyleModel",
          "model_module_version": "1.5.0",
          "state": {
            "_model_module": "@jupyter-widgets/controls",
            "_model_module_version": "1.5.0",
            "_model_name": "DescriptionStyleModel",
            "_view_count": null,
            "_view_module": "@jupyter-widgets/base",
            "_view_module_version": "1.2.0",
            "_view_name": "StyleView",
            "description_width": ""
          }
        },
        "10f4565f04954eca998dc3b32e59169f": {
          "model_module": "@jupyter-widgets/base",
          "model_name": "LayoutModel",
          "model_module_version": "1.2.0",
          "state": {
            "_model_module": "@jupyter-widgets/base",
            "_model_module_version": "1.2.0",
            "_model_name": "LayoutModel",
            "_view_count": null,
            "_view_module": "@jupyter-widgets/base",
            "_view_module_version": "1.2.0",
            "_view_name": "LayoutView",
            "align_content": null,
            "align_items": null,
            "align_self": null,
            "border": null,
            "bottom": null,
            "display": null,
            "flex": null,
            "flex_flow": null,
            "grid_area": null,
            "grid_auto_columns": null,
            "grid_auto_flow": null,
            "grid_auto_rows": null,
            "grid_column": null,
            "grid_gap": null,
            "grid_row": null,
            "grid_template_areas": null,
            "grid_template_columns": null,
            "grid_template_rows": null,
            "height": null,
            "justify_content": null,
            "justify_items": null,
            "left": null,
            "margin": null,
            "max_height": null,
            "max_width": null,
            "min_height": null,
            "min_width": null,
            "object_fit": null,
            "object_position": null,
            "order": null,
            "overflow": null,
            "overflow_x": null,
            "overflow_y": null,
            "padding": null,
            "right": null,
            "top": null,
            "visibility": null,
            "width": null
          }
        },
        "37d008bf97944b2a8f55c7a78bb22883": {
          "model_module": "@jupyter-widgets/controls",
          "model_name": "DescriptionStyleModel",
          "model_module_version": "1.5.0",
          "state": {
            "_model_module": "@jupyter-widgets/controls",
            "_model_module_version": "1.5.0",
            "_model_name": "DescriptionStyleModel",
            "_view_count": null,
            "_view_module": "@jupyter-widgets/base",
            "_view_module_version": "1.2.0",
            "_view_name": "StyleView",
            "description_width": ""
          }
        }
      }
    }
  },
  "nbformat": 4,
  "nbformat_minor": 0
}